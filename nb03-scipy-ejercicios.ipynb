{
 "cells": [
  {
   "cell_type": "markdown",
   "metadata": {},
   "source": [
    "## Ejercicio: \n",
    "### Generar estadisticas a partir de datos de vientos\n",
    "\n",
    "1. Los datos tienen la siguiente estructura:\n",
    "\n",
    "` 61  1  1 15.04 14.96 13.17  9.29 13.96  9.87 13.67 10.25 10.83 12.58 18.50 15.04`<br>\n",
    "` 61  1  2 14.71 16.88 10.83  6.50 12.62  7.67 11.50 10.04  9.79  9.67 17.54 13.83`<br>\n",
    "` 61  1  3 18.50 16.88 12.33 10.13 11.17  6.17 11.25  8.04  8.50  7.67 12.75 12.71`<br>\n",
    "\n",
    "Las primeras 3 columnas son año, mes y dia. El resto de las 12 columnas son velociades de viento promediades en nodos en 12 distintos puntos en Irlanda en ese momento.\n",
    "\n",
    "El archivo que contiene nuestro datos esta en: `wind.data`\n",
    "\n",
    "Locaciones: RPT, VAL, ROS, KIL, SHA, BIR, DUB, CLA, MUL, CLO, BEL, MAL"
   ]
  },
  {
   "cell_type": "code",
   "execution_count": 256,
   "metadata": {
    "collapsed": false
   },
   "outputs": [
    {
     "name": "stdout",
     "output_type": "stream",
     "text": [
      "wind   daily average wind speeds for 1961-1978 at 12 synoptic meteorological \r\n",
      "       stations in the Republic of Ireland (Haslett and raftery 1989).\r\n",
      "\r\n",
      "These data were analyzed in detail in the following article:\r\n",
      "   Haslett, J. and Raftery, A. E. (1989). Space-time Modelling with\r\n",
      "   Long-memory Dependence: Assessing Ireland's Wind Power Resource\r\n",
      "   (with Discussion). Applied Statistics 38, 1-50.\r\n",
      "\r\n",
      "Each line corresponds to one day of data in the following format:\r\n",
      "year, month, day, average wind speed at each of the stations in the order given\r\n",
      "in Fig.4 of Haslett and Raftery : \r\n",
      " RPT, VAL, ROS, KIL, SHA, BIR, DUB, CLA, MUL, CLO, BEL, MAL\r\n",
      "\r\n",
      "Fortan format : ( i2, 2i3, 12f6.2) \r\n",
      "\r\n",
      "The data are in knots, not in m/s.\r\n",
      "\r\n",
      "Permission granted for unlimited distribution.\r\n",
      "\r\n",
      "Please report all anomalies to fraley@stat.washington.edu\r\n",
      "\r\n",
      "Be aware that the dataset is 532494 bytes long (thats over half a\r\n",
      "Megabyte).  Please be sure you want the data before you request it.\r\n"
     ]
    }
   ],
   "source": [
    "%cat data/wind.desc"
   ]
  },
  {
   "cell_type": "code",
   "execution_count": 197,
   "metadata": {
    "collapsed": false
   },
   "outputs": [],
   "source": [
    "# importamos numpy con la convencion\n",
    "import numpy as np\n",
    "\n",
    "locations = [\"RPT\", \"VAL\", \"ROS\", \"KIL\", \"SHA\", \"BIR\", \"DUB\", \"CLA\", \"MUL\", \"CLO\", \"BEL\", \"MAL\"]\n",
    "\n",
    "data_raw = np.loadtxt('data/wind.data')\n",
    "# Vista a datos de vientos, no incluyendo las primeras 3 columnas de fecha\n",
    "wind_data = data_raw[:,3:]"
   ]
  },
  {
   "cell_type": "code",
   "execution_count": 198,
   "metadata": {
    "collapsed": false
   },
   "outputs": [
    {
     "data": {
      "text/plain": [
       "array([ 15.04,  14.96,  13.17,   9.29,  13.96,   9.87,  13.67,  10.25,\n",
       "        10.83,  12.58,  18.5 ,  15.04])"
      ]
     },
     "execution_count": 198,
     "metadata": {},
     "output_type": "execute_result"
    }
   ],
   "source": [
    "wind_data[0]"
   ]
  },
  {
   "cell_type": "markdown",
   "metadata": {},
   "source": [
    "### Estadisticas sobre todos los valores de la matriz"
   ]
  },
  {
   "cell_type": "code",
   "execution_count": 199,
   "metadata": {
    "collapsed": false
   },
   "outputs": [
    {
     "data": {
      "text/plain": [
       "0.0"
      ]
     },
     "execution_count": 199,
     "metadata": {},
     "output_type": "execute_result"
    }
   ],
   "source": [
    "wind_data.min()"
   ]
  },
  {
   "cell_type": "code",
   "execution_count": 200,
   "metadata": {
    "collapsed": false
   },
   "outputs": [
    {
     "data": {
      "text/plain": [
       "42.539999999999999"
      ]
     },
     "execution_count": 200,
     "metadata": {},
     "output_type": "execute_result"
    }
   ],
   "source": [
    "wind_data.max()"
   ]
  },
  {
   "cell_type": "code",
   "execution_count": 201,
   "metadata": {
    "collapsed": false
   },
   "outputs": [
    {
     "data": {
      "text/plain": [
       "10.22837377040868"
      ]
     },
     "execution_count": 201,
     "metadata": {},
     "output_type": "execute_result"
    }
   ],
   "source": [
    "wind_data.mean()"
   ]
  },
  {
   "cell_type": "code",
   "execution_count": 202,
   "metadata": {
    "collapsed": false
   },
   "outputs": [
    {
     "data": {
      "text/plain": [
       "5.6038401810957934"
      ]
     },
     "execution_count": 202,
     "metadata": {},
     "output_type": "execute_result"
    }
   ],
   "source": [
    "wind_data.std()"
   ]
  },
  {
   "cell_type": "markdown",
   "metadata": {},
   "source": [
    "### Generar estadisticas de todos los dias de datos para cada locación"
   ]
  },
  {
   "cell_type": "code",
   "execution_count": 213,
   "metadata": {
    "collapsed": false
   },
   "outputs": [],
   "source": [
    "wdmax = wind_data.max(axis=0)"
   ]
  },
  {
   "cell_type": "code",
   "execution_count": 214,
   "metadata": {
    "collapsed": false
   },
   "outputs": [],
   "source": [
    "wdmin = wind_data.min(axis=0)"
   ]
  },
  {
   "cell_type": "code",
   "execution_count": 215,
   "metadata": {
    "collapsed": false
   },
   "outputs": [],
   "source": [
    "wdmean = wind_data.mean(axis=0)"
   ]
  },
  {
   "cell_type": "code",
   "execution_count": 216,
   "metadata": {
    "collapsed": false
   },
   "outputs": [],
   "source": [
    "wdstd= wind_data.std(axis=0)"
   ]
  },
  {
   "cell_type": "code",
   "execution_count": 217,
   "metadata": {
    "collapsed": true
   },
   "outputs": [],
   "source": [
    "import matplotlib.pyplot as plt\n",
    "%matplotlib inline"
   ]
  },
  {
   "cell_type": "code",
   "execution_count": 370,
   "metadata": {
    "collapsed": false
   },
   "outputs": [
    {
     "data": {
      "text/plain": [
       "<matplotlib.legend.Legend at 0x7fb430db49e8>"
      ]
     },
     "execution_count": 370,
     "metadata": {},
     "output_type": "execute_result"
    },
    {
     "data": {
      "image/png": "[encoded data removed]",
      "text/plain": [
       "<matplotlib.figure.Figure at 0x7fb430b0a6d8>"
      ]
     },
     "metadata": {},
     "output_type": "display_data"
    }
   ],
   "source": [
    "x = np.linspace(1,12,12)\n",
    "\n",
    "plt.xticks(btm,locations)\n",
    "plt.errorbar(x , wdmean, yerr=[ wdmean-wdmin, wdmax-wdmean ] , \n",
    "             fmt='_r' , ecolor='gray' , markeredgewidth=2 , markersize=10 , label='mean (min,max)' )\n",
    "\n",
    "plt.plot(x,wdstd,'_g', label='stddev')\n",
    "\n",
    "plt.ylim([0,58])\n",
    "plt.xlim([0,13])\n",
    "\n",
    "plt.ylabel('knots')\n",
    "plt.legend(loc='upper right')"
   ]
  },
  {
   "cell_type": "code",
   "execution_count": 219,
   "metadata": {
    "collapsed": false
   },
   "outputs": [
    {
     "data": {
      "text/plain": [
       "<matplotlib.legend.Legend at 0x7fb4328e8c50>"
      ]
     },
     "execution_count": 219,
     "metadata": {},
     "output_type": "execute_result"
    },
    {
     "data": {
      "image/png": "[encoded data removed]",
      "text/plain": [
       "<matplotlib.figure.Figure at 0x7fb4329e5e10>"
      ]
     },
     "metadata": {},
     "output_type": "display_data"
    }
   ],
   "source": [
    "x = np.linspace(1,12,12)\n",
    "\n",
    "plt.xticks(btm,locations)\n",
    "plt.bar(x,wdmax,align='center',bottom=wdmin, color='gray', alpha=0.7)\n",
    "plt.plot(x,wdmean,'_r',markersize=18, markeredgewidth=2,label=\"mean\")\n",
    "plt.plot(x,wdstd,'g', label='stddev')\n",
    "\n",
    "plt.ylim([0,58])\n",
    "plt.xlim([0,13])\n",
    "\n",
    "plt.ylabel('knots')\n",
    "plt.legend(loc='upper right')"
   ]
  },
  {
   "cell_type": "markdown",
   "metadata": {},
   "source": [
    "### Generar estadisticas de sobre todas las posiciones para cada dia."
   ]
  },
  {
   "cell_type": "code",
   "execution_count": 377,
   "metadata": {
    "collapsed": false
   },
   "outputs": [
    {
     "data": {
      "text/plain": [
       "array([ 9.29,  6.5 ,  6.17, ...,  8.71,  9.13,  9.59])"
      ]
     },
     "execution_count": 377,
     "metadata": {},
     "output_type": "execute_result"
    }
   ],
   "source": [
    "# Las mismas operaciones, aplicandola sobre el eje de los renglones o segunda dimensión\n",
    "wind_data.min(axis=1)"
   ]
  },
  {
   "cell_type": "code",
   "execution_count": 380,
   "metadata": {
    "collapsed": false
   },
   "outputs": [
    {
     "data": {
      "text/plain": [
       "array([ 13.09666667,  11.79833333,  11.34166667, ...,  14.89      ,\n",
       "        15.3675    ,  15.4025    ])"
      ]
     },
     "execution_count": 380,
     "metadata": {},
     "output_type": "execute_result"
    }
   ],
   "source": [
    "wind_data.mean(axis=1)"
   ]
  },
  {
   "cell_type": "markdown",
   "metadata": {},
   "source": [
    "### Posiciones que tuvieron los maximos diarios"
   ]
  },
  {
   "cell_type": "code",
   "execution_count": 384,
   "metadata": {
    "collapsed": false
   },
   "outputs": [
    {
     "data": {
      "text/plain": [
       "array([10, 10,  0, ..., 11, 11,  2])"
      ]
     },
     "execution_count": 384,
     "metadata": {},
     "output_type": "execute_result"
    }
   ],
   "source": [
    "# Los valores maximos, sobre renglones\n",
    "wind_data.max(axis=1)\n",
    "# Los indices, que contienen los valores maximos \n",
    "wind_data.argmax(axis=1)"
   ]
  },
  {
   "cell_type": "markdown",
   "metadata": {},
   "source": [
    "### Obtener la fecha que tuvo la lectura maxima"
   ]
  },
  {
   "cell_type": "code",
   "execution_count": 388,
   "metadata": {
    "collapsed": false
   },
   "outputs": [
    {
     "data": {
      "text/plain": [
       "42.539999999999999"
      ]
     },
     "execution_count": 388,
     "metadata": {},
     "output_type": "execute_result"
    }
   ],
   "source": [
    "# Diarios maximos para cada dia (sobre renglones) todas las posiciones\n",
    "days_max = wind_data.max(axis=1)\n",
    "\n",
    "# Indice del dia con valor maximo \n",
    "max_row = days_max.argmax()"
   ]
  },
  {
   "cell_type": "code",
   "execution_count": 389,
   "metadata": {
    "collapsed": false
   },
   "outputs": [
    {
     "name": "stdout",
     "output_type": "stream",
     "text": [
      "1966 - 12 - 02\n",
      "Con valor maximo: 42.540000\n"
     ]
    }
   ],
   "source": [
    "# Fecha del dia con valor maximo\n",
    "print (\"19%d - %02d - %02d\" %  \n",
    "       ( int(data_raw[max_row, 0]) , int(data_raw[max_row, 1]) , int(data_raw[max_row, 2]) ) )\n",
    "print (\"Con valor maximo: %f\" % days_max.max())"
   ]
  },
  {
   "cell_type": "markdown",
   "metadata": {},
   "source": [
    "### Estadisticas de mayo"
   ]
  },
  {
   "cell_type": "code",
   "execution_count": 262,
   "metadata": {
    "collapsed": false
   },
   "outputs": [
    {
     "data": {
      "text/plain": [
       "6574"
      ]
     },
     "execution_count": 262,
     "metadata": {},
     "output_type": "execute_result"
    }
   ],
   "source": [
    "may_indices = data_raw[:,1] == 5\n",
    "may_indices.size"
   ]
  },
  {
   "cell_type": "code",
   "execution_count": 192,
   "metadata": {
    "collapsed": false
   },
   "outputs": [
    {
     "data": {
      "text/plain": [
       "(558, 12)"
      ]
     },
     "execution_count": 192,
     "metadata": {},
     "output_type": "execute_result"
    }
   ],
   "source": [
    "may_data = wind_data[may_indices]\n",
    "may_data.shape"
   ]
  },
  {
   "cell_type": "code",
   "execution_count": 244,
   "metadata": {
    "collapsed": true
   },
   "outputs": [],
   "source": [
    "# Definir funcion para graficar una serie\n",
    "\n",
    "def plotstats(serie, title):\n",
    "    x = np.linspace(1,serie.shape[1],serie.shape[1])\n",
    "\n",
    "    plt.xticks(btm,locations)\n",
    "    plt.errorbar(x , serie.mean(axis=0), \n",
    "                 yerr=[ serie.mean(axis=0)-serie.min(axis=0), serie.max(axis=0)-serie.mean(axis=0) ] , \n",
    "                 fmt='_r' , ecolor='gray' , markeredgewidth=2 , markersize=15 , label='mean (min,max)' )\n",
    "\n",
    "    plt.plot(x,serie.std(axis=0),'_g', label='stddev')\n",
    "\n",
    "    plt.ylim([0,58])\n",
    "    plt.xlim([0,13])\n",
    "\n",
    "    plt.title(title)\n",
    "    plt.ylabel('knots')\n",
    "    plt.legend(loc='upper right')    "
   ]
  },
  {
   "cell_type": "code",
   "execution_count": 254,
   "metadata": {
    "collapsed": false
   },
   "outputs": [
    {
     "data": {
      "image/png": "[encoded data removed]",
      "text/plain": [
       "<matplotlib.figure.Figure at 0x7fb4322302b0>"
      ]
     },
     "metadata": {},
     "output_type": "display_data"
    }
   ],
   "source": [
    "plotstats(may_data, 'Estadisticas Mayo')"
   ]
  },
  {
   "cell_type": "markdown",
   "metadata": {},
   "source": [
    "### Estadisticas por mes"
   ]
  },
  {
   "cell_type": "code",
   "execution_count": 362,
   "metadata": {
    "collapsed": false
   },
   "outputs": [],
   "source": [
    "month_group = {'min' : np.zeros(12) , 'max' : np.zeros(12) , \n",
    "               'mean' : np.zeros(12), 'std' : np.zeros(12) } \n",
    "\n",
    "for m in range(12): \n",
    "    wind_data_bymonth = wind_data[data_raw[:,1] == (m+1)]\n",
    "    month_group['min'][m] = wind_data_bymonth.min() \n",
    "    month_group['max'][m] = wind_data_bymonth.max() \n",
    "    month_group['mean'][m] = wind_data_bymonth.mean() \n",
    "    month_group['std'][m] = wind_data_bymonth.std()     \n"
   ]
  },
  {
   "cell_type": "code",
   "execution_count": 365,
   "metadata": {
    "collapsed": false
   },
   "outputs": [
    {
     "data": {
      "text/plain": [
       "['Jan',\n",
       " 'Feb',\n",
       " 'Mar',\n",
       " 'Apr',\n",
       " 'May',\n",
       " 'Jun',\n",
       " 'Jul',\n",
       " 'Aug',\n",
       " 'Sep',\n",
       " 'Oct',\n",
       " 'Nov',\n",
       " 'Dec']"
      ]
     },
     "execution_count": 365,
     "metadata": {},
     "output_type": "execute_result"
    }
   ],
   "source": [
    "import datetime as dt\n",
    "xticksmonths = [ dt.datetime(1900,m+1,1).strftime('%b') for m in range(12)]\n",
    "\n",
    "xticksmonths"
   ]
  },
  {
   "cell_type": "code",
   "execution_count": 369,
   "metadata": {
    "collapsed": false
   },
   "outputs": [
    {
     "data": {
      "text/plain": [
       "<matplotlib.text.Text at 0x7fb430b07a90>"
      ]
     },
     "execution_count": 369,
     "metadata": {},
     "output_type": "execute_result"
    },
    {
     "data": {
      "image/png": "[encoded data removed]",
      "text/plain": [
       "<matplotlib.figure.Figure at 0x7fb430f084a8>"
      ]
     },
     "metadata": {},
     "output_type": "display_data"
    }
   ],
   "source": [
    "x = np.arange(12)\n",
    "plt.plot(x, month_group['mean'] , '-g', label='mean' , )    \n",
    "\n",
    "plt.fill_between(x , month_group['min'] , month_group['max'], color='gray', alpha=0.3, edgecolor='red') \n",
    "plt.plot(x, month_group['std'], '-k' ,label='std')  \n",
    "\n",
    "  \n",
    "plt.xticks(x,xticksmonths)\n",
    "plt.ylabel('knots')\n",
    "plt.legend()\n",
    "plt.xlim([0,11])\n",
    "plt.ylim([0,55])\n",
    "\n",
    "plt.title('Estadisticas por mes')"
   ]
  },
  {
   "cell_type": "code",
   "execution_count": null,
   "metadata": {
    "collapsed": true
   },
   "outputs": [],
   "source": []
  },
  {
   "cell_type": "code",
   "execution_count": null,
   "metadata": {
    "collapsed": true
   },
   "outputs": [],
   "source": []
  },
  {
   "cell_type": "code",
   "execution_count": null,
   "metadata": {
    "collapsed": true
   },
   "outputs": [],
   "source": []
  },
  {
   "cell_type": "code",
   "execution_count": null,
   "metadata": {
    "collapsed": true
   },
   "outputs": [],
   "source": []
  },
  {
   "cell_type": "code",
   "execution_count": null,
   "metadata": {
    "collapsed": true
   },
   "outputs": [],
   "source": []
  },
  {
   "cell_type": "code",
   "execution_count": null,
   "metadata": {
    "collapsed": true
   },
   "outputs": [],
   "source": []
  },
  {
   "cell_type": "code",
   "execution_count": null,
   "metadata": {
    "collapsed": true
   },
   "outputs": [],
   "source": []
  },
  {
   "cell_type": "code",
   "execution_count": null,
   "metadata": {
    "collapsed": true
   },
   "outputs": [],
   "source": []
  },
  {
   "cell_type": "code",
   "execution_count": null,
   "metadata": {
    "collapsed": true
   },
   "outputs": [],
   "source": []
  },
  {
   "cell_type": "code",
   "execution_count": null,
   "metadata": {
    "collapsed": true
   },
   "outputs": [],
   "source": []
  },
  {
   "cell_type": "code",
   "execution_count": null,
   "metadata": {
    "collapsed": true
   },
   "outputs": [],
   "source": []
  },
  {
   "cell_type": "code",
   "execution_count": null,
   "metadata": {
    "collapsed": true
   },
   "outputs": [],
   "source": []
  },
  {
   "cell_type": "code",
   "execution_count": 423,
   "metadata": {
    "collapsed": false
   },
   "outputs": [
    {
     "data": {
      "text/plain": [
       "datetime.timedelta(6573)"
      ]
     },
     "execution_count": 423,
     "metadata": {},
     "output_type": "execute_result"
    }
   ],
   "source": [
    "import datetime as dt\n",
    "\n",
    "startd = dt.datetime(int(data_raw[0,0]),\n",
    "                     int(data_raw[0,1]), \n",
    "                     int(data_raw[0,2]))        \n",
    "\n",
    "endd = dt.datetime(int(data_raw[-1,0]),\n",
    "                   int(data_raw[-1,1]), \n",
    "                   int(data_raw[-1,2])) \n",
    "\n",
    "tdelt = (endd-startd)\n",
    "tdelt"
   ]
  },
  {
   "cell_type": "code",
   "execution_count": 456,
   "metadata": {
    "collapsed": false
   },
   "outputs": [
    {
     "data": {
      "text/plain": [
       "19"
      ]
     },
     "execution_count": 456,
     "metadata": {},
     "output_type": "execute_result"
    }
   ],
   "source": [
    "tdelt.days / 365\n",
    "int(np.ceil(len(data_raw)/365))"
   ]
  },
  {
   "cell_type": "code",
   "execution_count": 465,
   "metadata": {
    "collapsed": false
   },
   "outputs": [],
   "source": [
    "# Nueva columna yeardays, conteniendo en numero de dia del año que corresponde para cada observación\n",
    "\n",
    "yd = np.arange(1,366)\n",
    "colyeardays = np.tile(yd, int(np.ceil(len(data_raw)/365)))[0:len(data_raw)]"
   ]
  },
  {
   "cell_type": "code",
   "execution_count": 547,
   "metadata": {
    "collapsed": false
   },
   "outputs": [
    {
     "data": {
      "text/plain": [
       "<matplotlib.text.Text at 0x7fb41f0c0e80>"
      ]
     },
     "execution_count": 547,
     "metadata": {},
     "output_type": "execute_result"
    },
    {
     "data": {
      "image/png": "[encoded data removed]",
      "text/plain": [
       "<matplotlib.figure.Figure at 0x7fb41f106048>"
      ]
     },
     "metadata": {},
     "output_type": "display_data"
    }
   ],
   "source": [
    "dailywdt_mean = np.empty(365)\n",
    "dailywdt_max = np.empty(365)\n",
    "dailywdt_min = np.empty(365)\n",
    "dailywdt_std = np.empty(365)\n",
    "\n",
    "for d in range(1,366):\n",
    "    dailywdt_mean[d-1] = wind_data[np.where(colyeardays==d)].mean()\n",
    "    dailywdt_max[d-1] = wind_data[np.where(colyeardays==d)].max()\n",
    "    dailywdt_min[d-1] = wind_data[np.where(colyeardays==d)].min()\n",
    "    dailywdt_std[d-1] = wind_data[np.where(colyeardays==d)].std()\n",
    "\n",
    "    \n",
    "plt.figure(figsize=(15,6))    \n",
    "plt.plot(dailywdt_mean,'.',label='yearday mean')\n",
    "#plt.plot(dailywdt_min)\n",
    "#plt.plot(dailywdt_max)\n",
    "plt.plot(dailywdt_std,label='std')\n",
    "\n",
    "plys = np.polyfit(np.arange(365),dailywdt_mean,8)\n",
    "mfit = np.poly1d(plys)\n",
    "plt.plot(np.arange(365),mfit(np.arange(365)), label='Curva de ajuste')\n",
    "plt.xlim([0,365])\n",
    "plt.legend()\n",
    "plt.title(\"Estadistica para cada dia del año\")"
   ]
  },
  {
   "cell_type": "code",
   "execution_count": 253,
   "metadata": {
    "collapsed": false
   },
   "outputs": [
    {
     "data": {
      "text/plain": [
       "array([  1.,   1.,   1., ...,  12.,  12.,  12.])"
      ]
     },
     "execution_count": 253,
     "metadata": {},
     "output_type": "execute_result"
    }
   ],
   "source": [
    "data_raw[:,1] "
   ]
  },
  {
   "cell_type": "code",
   "execution_count": 391,
   "metadata": {
    "collapsed": false
   },
   "outputs": [
    {
     "data": {
      "text/plain": [
       "array([   0.,    0.,    0., ...,  215.,  215.,  215.])"
      ]
     },
     "execution_count": 391,
     "metadata": {},
     "output_type": "execute_result"
    }
   ],
   "source": [
    "meses = (data_raw[:,0] - 61) * 12 + data_raw[:,1] - 1 \n",
    "meses"
   ]
  },
  {
   "cell_type": "code",
   "execution_count": 396,
   "metadata": {
    "collapsed": false
   },
   "outputs": [
    {
     "data": {
      "text/plain": [
       "array([   0.,    1.,    2.,    3.,    4.,    5.,    6.,    7.,    8.,\n",
       "          9.,   10.,   11.,   12.,   13.,   14.,   15.,   16.,   17.,\n",
       "         18.,   19.,   20.,   21.,   22.,   23.,   24.,   25.,   26.,\n",
       "         27.,   28.,   29.,   30.,   31.,   32.,   33.,   34.,   35.,\n",
       "         36.,   37.,   38.,   39.,   40.,   41.,   42.,   43.,   44.,\n",
       "         45.,   46.,   47.,   48.,   49.,   50.,   51.,   52.,   53.,\n",
       "         54.,   55.,   56.,   57.,   58.,   59.,   60.,   61.,   62.,\n",
       "         63.,   64.,   65.,   66.,   67.,   68.,   69.,   70.,   71.,\n",
       "         72.,   73.,   74.,   75.,   76.,   77.,   78.,   79.,   80.,\n",
       "         81.,   82.,   83.,   84.,   85.,   86.,   87.,   88.,   89.,\n",
       "         90.,   91.,   92.,   93.,   94.,   95.,   96.,   97.,   98.,\n",
       "         99.,  100.,  101.,  102.,  103.,  104.,  105.,  106.,  107.,\n",
       "        108.,  109.,  110.,  111.,  112.,  113.,  114.,  115.,  116.,\n",
       "        117.,  118.,  119.,  120.,  121.,  122.,  123.,  124.,  125.,\n",
       "        126.,  127.,  128.,  129.,  130.,  131.,  132.,  133.,  134.,\n",
       "        135.,  136.,  137.,  138.,  139.,  140.,  141.,  142.,  143.,\n",
       "        144.,  145.,  146.,  147.,  148.,  149.,  150.,  151.,  152.,\n",
       "        153.,  154.,  155.,  156.,  157.,  158.,  159.,  160.,  161.,\n",
       "        162.,  163.,  164.,  165.,  166.,  167.,  168.,  169.,  170.,\n",
       "        171.,  172.,  173.,  174.,  175.,  176.,  177.,  178.,  179.,\n",
       "        180.,  181.,  182.,  183.,  184.,  185.,  186.,  187.,  188.,\n",
       "        189.,  190.,  191.,  192.,  193.,  194.,  195.,  196.,  197.,\n",
       "        198.,  199.,  200.,  201.,  202.,  203.,  204.,  205.,  206.,\n",
       "        207.,  208.,  209.,  210.,  211.,  212.,  213.,  214.,  215.])"
      ]
     },
     "execution_count": 396,
     "metadata": {},
     "output_type": "execute_result"
    }
   ],
   "source": [
    "valoresmeses = np.unique(meses)\n",
    "valoresmeses\n"
   ]
  },
  {
   "cell_type": "code",
   "execution_count": null,
   "metadata": {
    "collapsed": true
   },
   "outputs": [],
   "source": []
  },
  {
   "cell_type": "code",
   "execution_count": null,
   "metadata": {
    "collapsed": true
   },
   "outputs": [],
   "source": []
  },
  {
   "cell_type": "code",
   "execution_count": null,
   "metadata": {
    "collapsed": true
   },
   "outputs": [],
   "source": []
  },
  {
   "cell_type": "code",
   "execution_count": null,
   "metadata": {
    "collapsed": true
   },
   "outputs": [],
   "source": []
  },
  {
   "cell_type": "code",
   "execution_count": null,
   "metadata": {
    "collapsed": true
   },
   "outputs": [],
   "source": []
  },
  {
   "cell_type": "code",
   "execution_count": 78,
   "metadata": {
    "collapsed": false
   },
   "outputs": [
    {
     "data": {
      "text/plain": [
       "<matplotlib.legend.Legend at 0x7f0b4fb4d748>"
      ]
     },
     "execution_count": 78,
     "metadata": {},
     "output_type": "execute_result"
    },
    {
     "data": {
      "image/png": "[encoded data removed]",
      "text/plain": [
       "<matplotlib.figure.Figure at 0x7f0b4fdec9b0>"
      ]
     },
     "metadata": {},
     "output_type": "display_data"
    }
   ],
   "source": [
    "btm = np.linspace(1,12,12)\n",
    "plt.barh(btm,wdmax,tick_label=locations, align='center', label=\"max\")\n",
    "plt.barh(btm,wdmean,color='w',align='center',label=\"mean\")\n",
    "plt.barh(btm,wdstd,color='g',align='center', label=\"StdDev\")\n",
    "plt.barh(btm,wdmin,color='r',align='center', label=\"min\")\n",
    "plt.xlim([0,70])\n",
    "plt.xlabel('knots')\n",
    "plt.legend(loc='center right')"
   ]
  },
  {
   "cell_type": "code",
   "execution_count": 80,
   "metadata": {
    "collapsed": false
   },
   "outputs": [],
   "source": [
    "# Indice con la velocidad de viento mas alta."
   ]
  },
  {
   "cell_type": "code",
   "execution_count": 81,
   "metadata": {
    "collapsed": true
   },
   "outputs": [],
   "source": [
    "# A que fecha corresponde"
   ]
  },
  {
   "cell_type": "code",
   "execution_count": 82,
   "metadata": {
    "collapsed": true
   },
   "outputs": [],
   "source": [
    "# estadisticas de solo Febrero"
   ]
  },
  {
   "cell_type": "code",
   "execution_count": 1,
   "metadata": {
    "collapsed": false
   },
   "outputs": [
    {
     "name": "stdout",
     "output_type": "stream",
     "text": [
      "\u001b[0m\u001b[01;32mComenzando con python para computo científico.ipynb\u001b[0m*  \u001b[01;32mnumpyBasicsResume.ipynb\u001b[0m*\r\n",
      "\u001b[01;32mdatos.mat\u001b[0m*                                            \u001b[01;32mPythonBasics.ipynb\u001b[0m*\r\n",
      "Ejercicio-SciPy-Estadisticas-Viento.ipynb             \u001b[01;32mTablaEquivalencias.ipynb\u001b[0m*\r\n",
      "misesion.npz                                          Untitled.ipynb\r\n",
      "\u001b[01;32mnetCDFMatplotlib.ipynb\u001b[0m*                               wind.data\r\n",
      "\u001b[01;32mnumpyBasics.ipynb\u001b[0m*                                    wind.desc\r\n"
     ]
    }
   ],
   "source": [
    "ls"
   ]
  },
  {
   "cell_type": "code",
   "execution_count": 2,
   "metadata": {
    "collapsed": false
   },
   "outputs": [
    {
     "name": "stdout",
     "output_type": "stream",
     "text": [
      "wind   daily average wind speeds for 1961-1978 at 12 synoptic meteorological \r\n",
      "       stations in the Republic of Ireland (Haslett and raftery 1989).\r\n",
      "\r\n",
      "These data were analyzed in detail in the following article:\r\n",
      "   Haslett, J. and Raftery, A. E. (1989). Space-time Modelling with\r\n",
      "   Long-memory Dependence: Assessing Ireland's Wind Power Resource\r\n",
      "   (with Discussion). Applied Statistics 38, 1-50.\r\n",
      "\r\n",
      "Each line corresponds to one day of data in the following format:\r\n",
      "year, month, day, average wind speed at each of the stations in the order given\r\n",
      "in Fig.4 of Haslett and Raftery : \r\n",
      " RPT, VAL, ROS, KIL, SHA, BIR, DUB, CLA, MUL, CLO, BEL, MAL\r\n",
      "\r\n",
      "Fortan format : ( i2, 2i3, 12f6.2) \r\n",
      "\r\n",
      "The data are in knots, not in m/s.\r\n",
      "\r\n",
      "Permission granted for unlimited distribution.\r\n",
      "\r\n",
      "Please report all anomalies to fraley@stat.washington.edu\r\n",
      "\r\n",
      "Be aware that the dataset is 532494 bytes long (thats over half a\r\n",
      "Megabyte).  Please be sure you want the data before you request it.\r\n"
     ]
    }
   ],
   "source": [
    "%cat wind.desc"
   ]
  },
  {
   "cell_type": "code",
   "execution_count": null,
   "metadata": {
    "collapsed": true
   },
   "outputs": [],
   "source": []
  }
 ],
 "metadata": {
  "anaconda-cloud": {},
  "kernelspec": {
   "display_name": "Python [Root]",
   "language": "python",
   "name": "Python [Root]"
  },
  "language_info": {
   "codemirror_mode": {
    "name": "ipython",
    "version": 3
   },
   "file_extension": ".py",
   "mimetype": "text/x-python",
   "name": "python",
   "nbconvert_exporter": "python",
   "pygments_lexer": "ipython3",
   "version": "3.5.2"
  }
 },
 "nbformat": 4,
 "nbformat_minor": 0
}
