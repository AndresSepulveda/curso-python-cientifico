{
 "cells": [
  {
   "cell_type": "markdown",
   "metadata": {},
   "source": [
    "## Ejercicio: \n",
    "### Generar estadisticas a partir de datos de vientos\n",
    "\n",
    "1. Los datos tienen la siguiente estructura:\n",
    "\n",
    "` 61  1  1 15.04 14.96 13.17  9.29 13.96  9.87 13.67 10.25 10.83 12.58 18.50 15.04`<br>\n",
    "` 61  1  2 14.71 16.88 10.83  6.50 12.62  7.67 11.50 10.04  9.79  9.67 17.54 13.83`<br>\n",
    "` 61  1  3 18.50 16.88 12.33 10.13 11.17  6.17 11.25  8.04  8.50  7.67 12.75 12.71`<br>\n",
    "\n",
    "Las primeras 3 columnas son año, mes y dia. El resto de las 12 columnas son velociades de viento promediades en nodos en 12 distintos puntos en Irlanda en ese momento.\n",
    "\n",
    "El archivo que contiene nuestro datos esta en: `wind.data`\n",
    "\n",
    "Locaciones: RPT, VAL, ROS, KIL, SHA, BIR, DUB, CLA, MUL, CLO, BEL, MAL"
   ]
  },
  {
   "cell_type": "code",
   "execution_count": 33,
   "metadata": {
    "collapsed": false
   },
   "outputs": [],
   "source": [
    "# importamos numpy con la convencion\n",
    "import numpy as np\n",
    "\n",
    "data_raw = np.loadtxt('wind.data')\n",
    "wind_data = data_raw[:,3:]\n",
    "\n",
    "locations = [\"RPT\", \"VAL\", \"ROS\", \"KIL\", \"SHA\", \"BIR\", \"DUB\", \"CLA\", \"MUL\", \"CLO\", \"BEL\", \"MAL\"]"
   ]
  },
  {
   "cell_type": "markdown",
   "metadata": {},
   "source": [
    "#### Generar estadisticas de todos los dias de datos para cada locación"
   ]
  },
  {
   "cell_type": "code",
   "execution_count": 14,
   "metadata": {
    "collapsed": false
   },
   "outputs": [],
   "source": [
    "wdmax = wind_data.max(axis=0)"
   ]
  },
  {
   "cell_type": "code",
   "execution_count": 79,
   "metadata": {
    "collapsed": false
   },
   "outputs": [],
   "source": [
    "wdmin = wind_data.min(axis=0)"
   ]
  },
  {
   "cell_type": "code",
   "execution_count": 16,
   "metadata": {
    "collapsed": false
   },
   "outputs": [],
   "source": [
    "wdmean = wind_data.mean(axis=0)"
   ]
  },
  {
   "cell_type": "code",
   "execution_count": 17,
   "metadata": {
    "collapsed": false
   },
   "outputs": [],
   "source": [
    "wdstd= wind_data.std(axis=0)"
   ]
  },
  {
   "cell_type": "code",
   "execution_count": 20,
   "metadata": {
    "collapsed": true
   },
   "outputs": [],
   "source": [
    "import matplotlib.pyplot as plt\n",
    "%matplotlib inline"
   ]
  },
  {
   "cell_type": "code",
   "execution_count": 78,
   "metadata": {
    "collapsed": false
   },
   "outputs": [
    {
     "data": {
      "text/plain": [
       "<matplotlib.legend.Legend at 0x7f0b4fb4d748>"
      ]
     },
     "execution_count": 78,
     "metadata": {},
     "output_type": "execute_result"
    },
    {
     "data": {
      "image/png": "[encoded data removed]",
      "text/plain": [
       "<matplotlib.figure.Figure at 0x7f0b4fdec9b0>"
      ]
     },
     "metadata": {},
     "output_type": "display_data"
    }
   ],
   "source": [
    "btm = np.linspace(1,12,12)\n",
    "plt.barh(btm,wdmax,tick_label=locations, align='center', label=\"max\")\n",
    "plt.barh(btm,wdmean,color='w',align='center',label=\"mean\")\n",
    "plt.barh(btm,wdstd,color='g',align='center', label=\"StdDev\")\n",
    "plt.barh(btm,wdmin,color='r',align='center', label=\"min\")\n",
    "plt.xlim([0,70])\n",
    "plt.xlabel('knots')\n",
    "plt.legend(loc='center right')"
   ]
  },
  {
   "cell_type": "code",
   "execution_count": 80,
   "metadata": {
    "collapsed": false
   },
   "outputs": [],
   "source": [
    "# Indice con la velocidad de viento mas alta."
   ]
  },
  {
   "cell_type": "code",
   "execution_count": 81,
   "metadata": {
    "collapsed": true
   },
   "outputs": [],
   "source": [
    "# A que fecha corresponde"
   ]
  },
  {
   "cell_type": "code",
   "execution_count": 82,
   "metadata": {
    "collapsed": true
   },
   "outputs": [],
   "source": [
    "# estadisticas de solo Febrero"
   ]
  },
  {
   "cell_type": "code",
   "execution_count": 1,
   "metadata": {
    "collapsed": false
   },
   "outputs": [
    {
     "name": "stdout",
     "output_type": "stream",
     "text": [
      "\u001b[0m\u001b[01;32mComenzando con python para computo científico.ipynb\u001b[0m*  \u001b[01;32mnumpyBasicsResume.ipynb\u001b[0m*\r\n",
      "\u001b[01;32mdatos.mat\u001b[0m*                                            \u001b[01;32mPythonBasics.ipynb\u001b[0m*\r\n",
      "Ejercicio-SciPy-Estadisticas-Viento.ipynb             \u001b[01;32mTablaEquivalencias.ipynb\u001b[0m*\r\n",
      "misesion.npz                                          Untitled.ipynb\r\n",
      "\u001b[01;32mnetCDFMatplotlib.ipynb\u001b[0m*                               wind.data\r\n",
      "\u001b[01;32mnumpyBasics.ipynb\u001b[0m*                                    wind.desc\r\n"
     ]
    }
   ],
   "source": [
    "ls"
   ]
  },
  {
   "cell_type": "code",
   "execution_count": 2,
   "metadata": {
    "collapsed": false
   },
   "outputs": [
    {
     "name": "stdout",
     "output_type": "stream",
     "text": [
      "wind   daily average wind speeds for 1961-1978 at 12 synoptic meteorological \r\n",
      "       stations in the Republic of Ireland (Haslett and raftery 1989).\r\n",
      "\r\n",
      "These data were analyzed in detail in the following article:\r\n",
      "   Haslett, J. and Raftery, A. E. (1989). Space-time Modelling with\r\n",
      "   Long-memory Dependence: Assessing Ireland's Wind Power Resource\r\n",
      "   (with Discussion). Applied Statistics 38, 1-50.\r\n",
      "\r\n",
      "Each line corresponds to one day of data in the following format:\r\n",
      "year, month, day, average wind speed at each of the stations in the order given\r\n",
      "in Fig.4 of Haslett and Raftery : \r\n",
      " RPT, VAL, ROS, KIL, SHA, BIR, DUB, CLA, MUL, CLO, BEL, MAL\r\n",
      "\r\n",
      "Fortan format : ( i2, 2i3, 12f6.2) \r\n",
      "\r\n",
      "The data are in knots, not in m/s.\r\n",
      "\r\n",
      "Permission granted for unlimited distribution.\r\n",
      "\r\n",
      "Please report all anomalies to fraley@stat.washington.edu\r\n",
      "\r\n",
      "Be aware that the dataset is 532494 bytes long (thats over half a\r\n",
      "Megabyte).  Please be sure you want the data before you request it.\r\n"
     ]
    }
   ],
   "source": [
    "%cat wind.desc"
   ]
  },
  {
   "cell_type": "code",
   "execution_count": null,
   "metadata": {
    "collapsed": true
   },
   "outputs": [],
   "source": []
  }
 ],
 "metadata": {
  "anaconda-cloud": {},
  "kernelspec": {
   "display_name": "Python [Root]",
   "language": "python",
   "name": "Python [Root]"
  },
  "language_info": {
   "codemirror_mode": {
    "name": "ipython",
    "version": 3
   },
   "file_extension": ".py",
   "mimetype": "text/x-python",
   "name": "python",
   "nbconvert_exporter": "python",
   "pygments_lexer": "ipython3",
   "version": "3.5.2"
  }
 },
 "nbformat": 4,
 "nbformat_minor": 0
}
