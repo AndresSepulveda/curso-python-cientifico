{
 "cells": [
  {
   "cell_type": "markdown",
   "metadata": {
    "nbpresent": {
     "id": "570d5f36-8d2f-40e0-a55d-2541976f39f5"
    }
   },
   "source": [
    "# Comenzando con python para computo cientifico: el entorno notebook, numpy y matplotlib\n",
    "En este notebook, empezaremos por explorar las herramientas que contiene el ecosistema de python cientifico (SciPy)."
   ]
  },
  {
   "cell_type": "markdown",
   "metadata": {
    "nbpresent": {
     "id": "8feae209-830c-4f75-be7f-8220417846f2"
    }
   },
   "source": [
    "## El Ipython notebook\n",
    "Este mismo documento es un ipython notebook, es un documento computacionalmente interactivo que puede ser modificado y ejecutado ahora con la herramienta jupyter. Aqui incluimos codigo en python, codigo markdown, html, imagenes y multimedia.\n",
    "\n",
    "Cada celda tiene propiedades que le permiten mostrar los elementos anteriores."
   ]
  },
  {
   "cell_type": "markdown",
   "metadata": {
    "nbpresent": {
     "id": "4b942b3f-f83c-47b1-a3f1-6be7231ef4fe"
    }
   },
   "source": [
    "## Numpy desde arriba\n",
    "Empezemos por visualizar algunos datos"
   ]
  },
  {
   "cell_type": "code",
   "execution_count": 1,
   "metadata": {
    "collapsed": true,
    "nbpresent": {
     "id": "925a95fe-d944-4b8f-98a3-5b1a88146e92"
    }
   },
   "outputs": [],
   "source": [
    "# importamos la funcionalidad numpy usando la convencion.\n",
    "import numpy as np"
   ]
  },
  {
   "cell_type": "code",
   "execution_count": 2,
   "metadata": {
    "collapsed": true,
    "nbpresent": {
     "id": "c8b26eab-e26b-44ea-9c76-8cbe12f7ec0d"
    }
   },
   "outputs": [],
   "source": [
    "x = np.arange( -2*np.pi , 2*np.pi , 0.1 )"
   ]
  },
  {
   "cell_type": "code",
   "execution_count": 3,
   "metadata": {
    "collapsed": false,
    "nbpresent": {
     "id": "1e695bca-d65c-4362-8365-5480cf678b15"
    }
   },
   "outputs": [
    {
     "data": {
      "text/plain": [
       "array([-6.28318531, -6.18318531, -6.08318531, -5.98318531, -5.88318531,\n",
       "       -5.78318531, -5.68318531, -5.58318531, -5.48318531, -5.38318531,\n",
       "       -5.28318531, -5.18318531, -5.08318531, -4.98318531, -4.88318531,\n",
       "       -4.78318531, -4.68318531, -4.58318531, -4.48318531, -4.38318531,\n",
       "       -4.28318531, -4.18318531, -4.08318531, -3.98318531, -3.88318531,\n",
       "       -3.78318531, -3.68318531, -3.58318531, -3.48318531, -3.38318531,\n",
       "       -3.28318531, -3.18318531, -3.08318531, -2.98318531, -2.88318531,\n",
       "       -2.78318531, -2.68318531, -2.58318531, -2.48318531, -2.38318531,\n",
       "       -2.28318531, -2.18318531, -2.08318531, -1.98318531, -1.88318531,\n",
       "       -1.78318531, -1.68318531, -1.58318531, -1.48318531, -1.38318531,\n",
       "       -1.28318531, -1.18318531, -1.08318531, -0.98318531, -0.88318531,\n",
       "       -0.78318531, -0.68318531, -0.58318531, -0.48318531, -0.38318531,\n",
       "       -0.28318531, -0.18318531, -0.08318531,  0.01681469,  0.11681469,\n",
       "        0.21681469,  0.31681469,  0.41681469,  0.51681469,  0.61681469,\n",
       "        0.71681469,  0.81681469,  0.91681469,  1.01681469,  1.11681469,\n",
       "        1.21681469,  1.31681469,  1.41681469,  1.51681469,  1.61681469,\n",
       "        1.71681469,  1.81681469,  1.91681469,  2.01681469,  2.11681469,\n",
       "        2.21681469,  2.31681469,  2.41681469,  2.51681469,  2.61681469,\n",
       "        2.71681469,  2.81681469,  2.91681469,  3.01681469,  3.11681469,\n",
       "        3.21681469,  3.31681469,  3.41681469,  3.51681469,  3.61681469,\n",
       "        3.71681469,  3.81681469,  3.91681469,  4.01681469,  4.11681469,\n",
       "        4.21681469,  4.31681469,  4.41681469,  4.51681469,  4.61681469,\n",
       "        4.71681469,  4.81681469,  4.91681469,  5.01681469,  5.11681469,\n",
       "        5.21681469,  5.31681469,  5.41681469,  5.51681469,  5.61681469,\n",
       "        5.71681469,  5.81681469,  5.91681469,  6.01681469,  6.11681469,\n",
       "        6.21681469])"
      ]
     },
     "execution_count": 3,
     "metadata": {},
     "output_type": "execute_result"
    }
   ],
   "source": [
    "x"
   ]
  },
  {
   "cell_type": "markdown",
   "metadata": {
    "nbpresent": {
     "id": "f3b436da-3a6b-4ea2-b99d-3d13617f4f07"
    }
   },
   "source": [
    "Que tipo de objeto es: x "
   ]
  },
  {
   "cell_type": "code",
   "execution_count": 4,
   "metadata": {
    "collapsed": false,
    "nbpresent": {
     "id": "b0b5f8a1-4158-4276-9c40-fb82e4def479"
    }
   },
   "outputs": [
    {
     "data": {
      "text/plain": [
       "numpy.ndarray"
      ]
     },
     "execution_count": 4,
     "metadata": {},
     "output_type": "execute_result"
    }
   ],
   "source": [
    "type(x)"
   ]
  },
  {
   "cell_type": "code",
   "execution_count": 5,
   "metadata": {
    "collapsed": true
   },
   "outputs": [],
   "source": [
    "x.dot?"
   ]
  },
  {
   "cell_type": "markdown",
   "metadata": {
    "nbpresent": {
     "id": "0433d528-4717-49e2-880e-1105c48790db"
    }
   },
   "source": [
    "El corazon de la libreria numpy es el objeto ndarray, un arreglo de *n*-dimensiones, este objeto tiene propiedades que describen los datos y metodos, este entorno nos permite explorar que es lo que contiene, presionando **TAB** despues de escribir **x.**"
   ]
  },
  {
   "cell_type": "code",
   "execution_count": null,
   "metadata": {
    "collapsed": false,
    "nbpresent": {
     "id": "3addacc0-c734-44dd-b21d-45a76bb4dc22"
    }
   },
   "outputs": [],
   "source": [
    "x.dtype"
   ]
  },
  {
   "cell_type": "code",
   "execution_count": null,
   "metadata": {
    "collapsed": false,
    "nbpresent": {
     "id": "40aed528-1d6f-472d-9c59-13fa7b3ccbd3"
    }
   },
   "outputs": [],
   "source": [
    "x.ndim"
   ]
  },
  {
   "cell_type": "code",
   "execution_count": null,
   "metadata": {
    "collapsed": false,
    "nbpresent": {
     "id": "4bf3b57e-b097-42b3-b110-21d024a72a04"
    }
   },
   "outputs": [],
   "source": [
    "x.size"
   ]
  },
  {
   "cell_type": "code",
   "execution_count": null,
   "metadata": {
    "collapsed": false,
    "nbpresent": {
     "id": "12bf985a-7f38-4fcc-9691-b698b61cdba6"
    }
   },
   "outputs": [],
   "source": [
    "x.shape"
   ]
  },
  {
   "cell_type": "code",
   "execution_count": null,
   "metadata": {
    "collapsed": false,
    "nbpresent": {
     "id": "6db97975-0ceb-4aab-8cd9-d1f5e995b5bb"
    }
   },
   "outputs": [],
   "source": [
    "x.mean()"
   ]
  },
  {
   "cell_type": "code",
   "execution_count": null,
   "metadata": {
    "collapsed": true,
    "nbpresent": {
     "id": "c2c0d875-6f19-4f16-9dc5-25dc487204ed"
    }
   },
   "outputs": [],
   "source": [
    "x = np.linspace(-1*np.pi , 1*np.pi , 31)"
   ]
  },
  {
   "cell_type": "code",
   "execution_count": null,
   "metadata": {
    "collapsed": false,
    "nbpresent": {
     "id": "392f5814-5800-4864-8ab3-193b13946261"
    }
   },
   "outputs": [],
   "source": [
    "x.sum()"
   ]
  },
  {
   "cell_type": "code",
   "execution_count": null,
   "metadata": {
    "collapsed": false,
    "nbpresent": {
     "id": "8bd52533-fab3-4188-a45a-17d247ca1e8b"
    }
   },
   "outputs": [],
   "source": [
    "x"
   ]
  },
  {
   "cell_type": "markdown",
   "metadata": {
    "nbpresent": {
     "id": "2357aaa7-515c-4d8c-b3a9-52a0fa9a5865"
    }
   },
   "source": [
    "**Ejemplo:** Evaluaremos el cada elemento del arreglo x con la funcion seno. La forma funcional, o al \"estilo python\" de hacerlo es la siguiente:"
   ]
  },
  {
   "cell_type": "code",
   "execution_count": null,
   "metadata": {
    "collapsed": false,
    "nbpresent": {
     "id": "6512381c-5bf3-4df5-949e-33dc2ae940d0"
    }
   },
   "outputs": [],
   "source": [
    "from math import sin \n",
    "sin1 = [sin(i) for i in x]"
   ]
  },
  {
   "cell_type": "code",
   "execution_count": null,
   "metadata": {
    "collapsed": false,
    "nbpresent": {
     "id": "d5befe13-b5f9-491f-b2f5-0583b406f28c"
    }
   },
   "outputs": [],
   "source": [
    "type(sin1)"
   ]
  },
  {
   "cell_type": "markdown",
   "metadata": {
    "nbpresent": {
     "id": "b4cd7cc2-42f6-4434-9497-351df91385d1"
    }
   },
   "source": [
    "Podemos convertir una lista a un objeto mas eficiente ndarray"
   ]
  },
  {
   "cell_type": "code",
   "execution_count": null,
   "metadata": {
    "collapsed": false,
    "nbpresent": {
     "id": "480b73f3-1f5e-44cf-b185-6c94cd33d26c"
    }
   },
   "outputs": [],
   "source": [
    "sin2 = np.array(sin1)\n",
    "type(sin2)"
   ]
  },
  {
   "cell_type": "markdown",
   "metadata": {
    "nbpresent": {
     "id": "2b3dd24f-f690-4d60-9277-40fbfc57821b"
    }
   },
   "source": [
    "Lo anterior no es lo mas eficiente que podemos hacer, en su lugar el paquete numpy contiene versiones de funciones math en metodos vectorizados y optimizados para el objeto ndarray, llamados *\"ufunc\"* corto para *\"universal functions\"*"
   ]
  },
  {
   "cell_type": "code",
   "execution_count": null,
   "metadata": {
    "collapsed": false,
    "nbpresent": {
     "id": "2ac5d98b-9338-4347-9cd5-8d775b2765d2"
    }
   },
   "outputs": [],
   "source": [
    "sin3 = np.sin(x)\n",
    "sin3"
   ]
  },
  {
   "cell_type": "markdown",
   "metadata": {
    "nbpresent": {
     "id": "6f8ba47c-eca0-48a5-9512-99040c6d5cd2"
    }
   },
   "source": [
    "Que tan optimizado?"
   ]
  },
  {
   "cell_type": "code",
   "execution_count": null,
   "metadata": {
    "collapsed": false,
    "nbpresent": {
     "id": "13c57300-0fcb-4579-a4d3-afc1f2c9ab55"
    }
   },
   "outputs": [],
   "source": [
    "%timeit sin2 = np.array([sin(i) for i in x])"
   ]
  },
  {
   "cell_type": "code",
   "execution_count": null,
   "metadata": {
    "collapsed": false,
    "nbpresent": {
     "id": "096e86e8-5df7-4bd3-a388-44b18a527f7c"
    }
   },
   "outputs": [],
   "source": [
    "%timeit sin3 = np.sin(x)"
   ]
  },
  {
   "cell_type": "markdown",
   "metadata": {
    "nbpresent": {
     "id": "fd51bf62-60e2-4a6e-bacd-9bc5a0f879dd"
    }
   },
   "source": [
    "**np.sin()** es una funcion universal que evalua elemento por elemento. Numpy promueve que pensemos de forma vectorizada, que hagamos operaciones sobre los arreglos como si fuera una unidad.  De esta forma dejamos que el nucleo de estas librerias se encargen de realizar la parte complicada e incluso encargarse de optimizaciones, en multiples CPUs, o GPU's."
   ]
  },
  {
   "cell_type": "markdown",
   "metadata": {},
   "source": [
    "**Ejercicio** Ejecutar funciones artimeticas y matematicas sobre arreglos numpy.  "
   ]
  },
  {
   "cell_type": "markdown",
   "metadata": {},
   "source": [
    "### Que es numpy?\n",
    "El objeto que nos provee de forma optimizada la siguiente funcionalidad\n",
    "- arreglo de datos numericos, adecuado para datos cientificos (vectores, matrices)\n",
    "- operaciones vectorizadas para sus arreglos"
   ]
  },
  {
   "cell_type": "code",
   "execution_count": 24,
   "metadata": {
    "collapsed": false
   },
   "outputs": [],
   "source": [
    "# Por ejemplo operaciones aritmeticas sobre arreglos\n",
    "x = np.array([1.,2.,3.,4.,5.])\n",
    "y = np.array([6,7,8,9,10]) "
   ]
  },
  {
   "cell_type": "code",
   "execution_count": 25,
   "metadata": {
    "collapsed": false
   },
   "outputs": [
    {
     "data": {
      "text/plain": [
       "array([  6.,  14.,  24.,  36.,  50.])"
      ]
     },
     "execution_count": 25,
     "metadata": {},
     "output_type": "execute_result"
    }
   ],
   "source": [
    "x * y "
   ]
  },
  {
   "cell_type": "code",
   "execution_count": 26,
   "metadata": {
    "collapsed": false
   },
   "outputs": [
    {
     "data": {
      "text/plain": [
       "array([ -2.9,  -5.8,  -8.7, -11.6, -14.5])"
      ]
     },
     "execution_count": 26,
     "metadata": {},
     "output_type": "execute_result"
    }
   ],
   "source": [
    "x * -2.9"
   ]
  },
  {
   "cell_type": "code",
   "execution_count": 27,
   "metadata": {
    "collapsed": false
   },
   "outputs": [
    {
     "data": {
      "text/plain": [
       "dtype('complex128')"
      ]
     },
     "execution_count": 27,
     "metadata": {},
     "output_type": "execute_result"
    }
   ],
   "source": [
    "z = x + 2j\n",
    "z.dtype"
   ]
  },
  {
   "cell_type": "markdown",
   "metadata": {},
   "source": [
    "## Visualizando los datos: matplotlib\n",
    "Ahora que ya tenemos datos, realizamos operaciones sobre ellos y representan un posible resultado de algun experimento, lo que sigue es visualizarlos.\n",
    "El paquete estandar para hacer esto es matplotlib, que es parte del paquete de scipy."
   ]
  },
  {
   "cell_type": "code",
   "execution_count": 12,
   "metadata": {
    "collapsed": false,
    "nbpresent": {
     "id": "e75f55d2-a3d7-42d0-8ae5-210894d13a79"
    }
   },
   "outputs": [],
   "source": [
    "# importando matplotlib siguiendo la convencion\n",
    "import matplotlib.pyplot as plt"
   ]
  },
  {
   "cell_type": "markdown",
   "metadata": {},
   "source": [
    "Recordemos como obtuvimos datos"
   ]
  },
  {
   "cell_type": "code",
   "execution_count": 102,
   "metadata": {
    "collapsed": true,
    "nbpresent": {
     "id": "c7a47147-2486-41bf-ae03-30e55887beee"
    }
   },
   "outputs": [],
   "source": [
    "x = np.linspace(-2*np.pi, 2*np.pi, 100)\n",
    "y = np.sin(x)"
   ]
  },
  {
   "cell_type": "markdown",
   "metadata": {},
   "source": [
    "Hagamos un grafico"
   ]
  },
  {
   "cell_type": "code",
   "execution_count": 31,
   "metadata": {
    "collapsed": false,
    "nbpresent": {
     "id": "7ad0977b-8708-4ad5-8aeb-549af1fbabaa"
    }
   },
   "outputs": [
    {
     "data": {
      "text/plain": [
       "[<matplotlib.lines.Line2D at 0x7f2734dd5198>]"
      ]
     },
     "execution_count": 31,
     "metadata": {},
     "output_type": "execute_result"
    }
   ],
   "source": [
    "plt.plot(x,y)"
   ]
  },
  {
   "cell_type": "code",
   "execution_count": 32,
   "metadata": {
    "collapsed": true
   },
   "outputs": [],
   "source": [
    "# Muestrame mi grafico!\n",
    "plt.show()"
   ]
  },
  {
   "cell_type": "code",
   "execution_count": 13,
   "metadata": {
    "collapsed": false
   },
   "outputs": [
    {
     "data": {
      "text/plain": [
       "[<matplotlib.lines.Line2D at 0x7fcc25cf3cc0>]"
      ]
     },
     "execution_count": 13,
     "metadata": {},
     "output_type": "execute_result"
    },
    {
     "data": {
      "image/png": "[encoded data removed]",
      "text/plain": [
       "<matplotlib.figure.Figure at 0x7fcc28215f98>"
      ]
     },
     "metadata": {},
     "output_type": "display_data"
    }
   ],
   "source": [
    "# Incluyelo en mi notebook\n",
    "%matplotlib inline\n",
    "plt.plot(x,y)"
   ]
  },
  {
   "cell_type": "code",
   "execution_count": 56,
   "metadata": {
    "collapsed": false
   },
   "outputs": [
    {
     "data": {
      "text/plain": [
       "[<matplotlib.lines.Line2D at 0x7f271dd80860>]"
      ]
     },
     "execution_count": 56,
     "metadata": {},
     "output_type": "execute_result"
    },
    {
     "data": {
      "image/png": "[encoded data removed]",
      "text/plain": [
       "<matplotlib.figure.Figure at 0x7f271dd80438>"
      ]
     },
     "metadata": {},
     "output_type": "display_data"
    }
   ],
   "source": [
    "plt.plot(x, np.sin(x))\n",
    "plt.plot(x, np.cos(x))"
   ]
  },
  {
   "cell_type": "code",
   "execution_count": 44,
   "metadata": {
    "collapsed": false
   },
   "outputs": [
    {
     "data": {
      "image/png": "[encoded data removed]",
      "text/plain": [
       "<matplotlib.figure.Figure at 0x7f271e6f6908>"
      ]
     },
     "metadata": {},
     "output_type": "display_data"
    }
   ],
   "source": [
    "plt.plot(x, np.sin(x), \"--\"  , label=\"$\\sin(x)$\")\n",
    "plt.plot(x, np.cos(x), \"ro--\", label=\"$\\cos(x)$\")  # red points and dashed lines\n",
    "plt.xlabel(\"$x$\", size=20)\n",
    "plt.ylabel(\"$\\sin(x), \\cos(x)$\", size=20)\n",
    "plt.legend()\n"
   ]
  },
  {
   "cell_type": "code",
   "execution_count": 45,
   "metadata": {
    "collapsed": false
   },
   "outputs": [
    {
     "data": {
      "text/plain": [
       "<matplotlib.figure.Figure at 0x7f271e48e518>"
      ]
     },
     "metadata": {},
     "output_type": "display_data"
    }
   ],
   "source": [
    "# Salvamos nuestro grafico asi. \n",
    "plt.savefig(\"sincos.pdf\")"
   ]
  },
  {
   "cell_type": "code",
   "execution_count": 46,
   "metadata": {
    "collapsed": true
   },
   "outputs": [],
   "source": [
    "plt.plot?"
   ]
  },
  {
   "cell_type": "markdown",
   "metadata": {},
   "source": [
    "**Ejercicio** Que tal si hacemos un grafico de la funcion logaritmica y el exponencial en un mismo grafico mas una linea punteada, mostrando la leyenda $y=x$ para denotar la simetria.\n",
    "\n",
    "Para ajustar nuestros limites visibles del grafico podemos usar `plt.ylim([ymin, ymax])` para ajustar en el eje Y."
   ]
  },
  {
   "cell_type": "code",
   "execution_count": 118,
   "metadata": {
    "collapsed": false,
    "scrolled": true
   },
   "outputs": [
    {
     "data": {
      "text/plain": [
       "(-5, 5)"
      ]
     },
     "execution_count": 118,
     "metadata": {},
     "output_type": "execute_result"
    },
    {
     "data": {
      "image/png": "[encoded data removed]",
      "text/plain": [
       "<matplotlib.figure.Figure at 0x7f271daf5898>"
      ]
     },
     "metadata": {},
     "output_type": "display_data"
    }
   ],
   "source": [
    "plt.plot(x[x>0], np.log(x[x>0]), \"-\")\n",
    "plt.plot(x, np.exp(x), \"-\")\n",
    "plt.plot(x,x,\"--\",label=\"$y=x$\")\n",
    "plt.legend()\n",
    "\n",
    "\n",
    "plt.axhline(y=0)\n",
    "plt.axvline(x=0)\n",
    "plt.ylim([-5,5])"
   ]
  },
  {
   "cell_type": "markdown",
   "metadata": {},
   "source": [
    "## Cargando datos en numpy\n",
    "Generalmente las aplicaciones cientificas no generan datos a partir de funciones, o travez de simulaciones numericas, si no de datos ya existentes.\n",
    "\n",
    "Numpy cuenta con funcionalidad para cargar y salvar datos a sus arreglos, aun mas funcionalidad esta disponible en la libreria `pandas`"
   ]
  },
  {
   "cell_type": "code",
   "execution_count": 9,
   "metadata": {
    "collapsed": false
   },
   "outputs": [
    {
     "data": {
      "text/plain": [
       "array([ 0.77627357,  0.43291279,  0.22624098,  0.12345328,  0.42539496,\n",
       "        0.36281466,  0.80056855,  0.08979468,  0.34895801,  0.8186695 ])"
      ]
     },
     "execution_count": 9,
     "metadata": {},
     "output_type": "execute_result"
    }
   ],
   "source": [
    "# Generemos datos aleatorios\n",
    "np.random.rand(10)"
   ]
  },
  {
   "cell_type": "code",
   "execution_count": 14,
   "metadata": {
    "collapsed": false
   },
   "outputs": [],
   "source": [
    "# Vectores con datos , \"simulando datos cientificos\"\n",
    "x = np.linspace(-5, 5, 50)\n",
    "y = x**2 + 5*np.random.rand(x.size)"
   ]
  },
  {
   "cell_type": "code",
   "execution_count": 15,
   "metadata": {
    "collapsed": false
   },
   "outputs": [
    {
     "data": {
      "text/plain": [
       "[<matplotlib.lines.Line2D at 0x7fcc257914e0>]"
      ]
     },
     "execution_count": 15,
     "metadata": {},
     "output_type": "execute_result"
    },
    {
     "data": {
      "image/png": "[encoded data removed]",
      "text/plain": [
       "<matplotlib.figure.Figure at 0x7fcc25cdac88>"
      ]
     },
     "metadata": {},
     "output_type": "display_data"
    }
   ],
   "source": [
    "# Visualizamos nuestros datos.\n",
    "plt.plot(x,y,'o')"
   ]
  },
  {
   "cell_type": "markdown",
   "metadata": {},
   "source": [
    "Para exportar nuestros datos, de preferencia los salvaremos en forma tabulada, creando una matriz en numpy a partir de los dos vectores x,y."
   ]
  },
  {
   "cell_type": "code",
   "execution_count": 18,
   "metadata": {
    "collapsed": false
   },
   "outputs": [
    {
     "data": {
      "text/plain": [
       "array([[ -5.        ,  26.80810656],\n",
       "       [ -4.79591837,  25.68854708],\n",
       "       [ -4.59183673,  21.63241622],\n",
       "       [ -4.3877551 ,  22.01193531],\n",
       "       [ -4.18367347,  20.31405965],\n",
       "       [ -3.97959184,  17.74539758],\n",
       "       [ -3.7755102 ,  18.31746474],\n",
       "       [ -3.57142857,  14.68420575],\n",
       "       [ -3.36734694,  12.82156494],\n",
       "       [ -3.16326531,  13.13858941],\n",
       "       [ -2.95918367,  11.34653309],\n",
       "       [ -2.75510204,   8.71416151],\n",
       "       [ -2.55102041,   9.1729447 ],\n",
       "       [ -2.34693878,  10.48949056],\n",
       "       [ -2.14285714,   7.63499573],\n",
       "       [ -1.93877551,   5.66674393],\n",
       "       [ -1.73469388,   6.72204856],\n",
       "       [ -1.53061224,   2.7723582 ],\n",
       "       [ -1.32653061,   5.81837737],\n",
       "       [ -1.12244898,   1.68596217],\n",
       "       [ -0.91836735,   4.31226995],\n",
       "       [ -0.71428571,   5.10051562],\n",
       "       [ -0.51020408,   2.4750284 ],\n",
       "       [ -0.30612245,   1.81966239],\n",
       "       [ -0.10204082,   2.53211706],\n",
       "       [  0.10204082,   3.93226453],\n",
       "       [  0.30612245,   3.193222  ],\n",
       "       [  0.51020408,   2.59530423],\n",
       "       [  0.71428571,   5.39494173],\n",
       "       [  0.91836735,   1.0350096 ],\n",
       "       [  1.12244898,   2.23112323],\n",
       "       [  1.32653061,   3.06057034],\n",
       "       [  1.53061224,   7.18481253],\n",
       "       [  1.73469388,   6.63700191],\n",
       "       [  1.93877551,   5.15074918],\n",
       "       [  2.14285714,   6.21848522],\n",
       "       [  2.34693878,   9.06963243],\n",
       "       [  2.55102041,  10.81902185],\n",
       "       [  2.75510204,   8.27235318],\n",
       "       [  2.95918367,  10.59692223],\n",
       "       [  3.16326531,  11.14789286],\n",
       "       [  3.36734694,  11.75430795],\n",
       "       [  3.57142857,  16.24325894],\n",
       "       [  3.7755102 ,  15.49173372],\n",
       "       [  3.97959184,  16.21432112],\n",
       "       [  4.18367347,  20.74267413],\n",
       "       [  4.3877551 ,  19.37442967],\n",
       "       [  4.59183673,  26.00958112],\n",
       "       [  4.79591837,  25.20495124],\n",
       "       [  5.        ,  28.09227586]])"
      ]
     },
     "execution_count": 18,
     "metadata": {},
     "output_type": "execute_result"
    }
   ],
   "source": [
    "z = np.stack((x,y), axis=1) \n",
    "z"
   ]
  },
  {
   "cell_type": "code",
   "execution_count": 19,
   "metadata": {
    "collapsed": false
   },
   "outputs": [
    {
     "data": {
      "text/plain": [
       "array([[ -5.        ,  26.80810656],\n",
       "       [ -4.79591837,  25.68854708],\n",
       "       [ -4.59183673,  21.63241622],\n",
       "       [ -4.3877551 ,  22.01193531],\n",
       "       [ -4.18367347,  20.31405965],\n",
       "       [ -3.97959184,  17.74539758],\n",
       "       [ -3.7755102 ,  18.31746474],\n",
       "       [ -3.57142857,  14.68420575],\n",
       "       [ -3.36734694,  12.82156494],\n",
       "       [ -3.16326531,  13.13858941],\n",
       "       [ -2.95918367,  11.34653309],\n",
       "       [ -2.75510204,   8.71416151],\n",
       "       [ -2.55102041,   9.1729447 ],\n",
       "       [ -2.34693878,  10.48949056],\n",
       "       [ -2.14285714,   7.63499573],\n",
       "       [ -1.93877551,   5.66674393],\n",
       "       [ -1.73469388,   6.72204856],\n",
       "       [ -1.53061224,   2.7723582 ],\n",
       "       [ -1.32653061,   5.81837737],\n",
       "       [ -1.12244898,   1.68596217],\n",
       "       [ -0.91836735,   4.31226995],\n",
       "       [ -0.71428571,   5.10051562],\n",
       "       [ -0.51020408,   2.4750284 ],\n",
       "       [ -0.30612245,   1.81966239],\n",
       "       [ -0.10204082,   2.53211706],\n",
       "       [  0.10204082,   3.93226453],\n",
       "       [  0.30612245,   3.193222  ],\n",
       "       [  0.51020408,   2.59530423],\n",
       "       [  0.71428571,   5.39494173],\n",
       "       [  0.91836735,   1.0350096 ],\n",
       "       [  1.12244898,   2.23112323],\n",
       "       [  1.32653061,   3.06057034],\n",
       "       [  1.53061224,   7.18481253],\n",
       "       [  1.73469388,   6.63700191],\n",
       "       [  1.93877551,   5.15074918],\n",
       "       [  2.14285714,   6.21848522],\n",
       "       [  2.34693878,   9.06963243],\n",
       "       [  2.55102041,  10.81902185],\n",
       "       [  2.75510204,   8.27235318],\n",
       "       [  2.95918367,  10.59692223],\n",
       "       [  3.16326531,  11.14789286],\n",
       "       [  3.36734694,  11.75430795],\n",
       "       [  3.57142857,  16.24325894],\n",
       "       [  3.7755102 ,  15.49173372],\n",
       "       [  3.97959184,  16.21432112],\n",
       "       [  4.18367347,  20.74267413],\n",
       "       [  4.3877551 ,  19.37442967],\n",
       "       [  4.59183673,  26.00958112],\n",
       "       [  4.79591837,  25.20495124],\n",
       "       [  5.        ,  28.09227586]])"
      ]
     },
     "execution_count": 19,
     "metadata": {},
     "output_type": "execute_result"
    }
   ],
   "source": [
    "z = np.hstack((x[:,np.newaxis],y[:,np.newaxis]))\n",
    "z"
   ]
  },
  {
   "cell_type": "code",
   "execution_count": 23,
   "metadata": {
    "collapsed": false
   },
   "outputs": [],
   "source": [
    "np.savetxt(\"cuadratica-ruido.txt\", z)"
   ]
  },
  {
   "cell_type": "code",
   "execution_count": 44,
   "metadata": {
    "collapsed": true
   },
   "outputs": [
    {
     "name": "stdout",
     "output_type": "stream",
     "text": [
      "# X, Y\r\n",
      "  -5.00000,  26.80811\r\n",
      "  -4.79592,  25.68855\r\n",
      "  -4.59184,  21.63242\r\n",
      "  -4.38776,  22.01194\r\n",
      "  -4.18367,  20.31406\r\n",
      "  -3.97959,  17.74540\r\n",
      "  -3.77551,  18.31746\r\n",
      "  -3.57143,  14.68421\r\n",
      "  -3.36735,  12.82156\r\n",
      "  -3.16327,  13.13859\r\n",
      "  -2.95918,  11.34653\r\n",
      "  -2.75510,   8.71416\r\n",
      "  -2.55102,   9.17294\r\n",
      "  -2.34694,  10.48949\r\n",
      "  -2.14286,   7.63500\r\n",
      "  -1.93878,   5.66674\r\n",
      "  -1.73469,   6.72205\r\n",
      "  -1.53061,   2.77236\r\n",
      "  -1.32653,   5.81838\r\n",
      "  -1.12245,   1.68596\r\n",
      "  -0.91837,   4.31227\r\n",
      "  -0.71429,   5.10052\r\n",
      "  -0.51020,   2.47503\r\n",
      "  -0.30612,   1.81966\r\n",
      "  -0.10204,   2.53212\r\n",
      "   0.10204,   3.93226\r\n",
      "   0.30612,   3.19322\r\n",
      "   0.51020,   2.59530\r\n",
      "   0.71429,   5.39494\r\n",
      "   0.91837,   1.03501\r\n",
      "   1.12245,   2.23112\r\n",
      "   1.32653,   3.06057\r\n",
      "   1.53061,   7.18481\r\n",
      "   1.73469,   6.63700\r\n",
      "   1.93878,   5.15075\r\n",
      "   2.14286,   6.21849\r\n",
      "   2.34694,   9.06963\r\n",
      "   2.55102,  10.81902\r\n",
      "   2.75510,   8.27235\r\n",
      "   2.95918,  10.59692\r\n",
      "   3.16327,  11.14789\r\n",
      "   3.36735,  11.75431\r\n",
      "   3.57143,  16.24326\r\n",
      "   3.77551,  15.49173\r\n",
      "   3.97959,  16.21432\r\n",
      "   4.18367,  20.74267\r\n",
      "   4.38776,  19.37443\r\n",
      "   4.59184,  26.00958\r\n",
      "   4.79592,  25.20495\r\n",
      "   5.00000,  28.09228\r\n"
     ]
    }
   ],
   "source": [
    "# Comando magico cat - funciona en windows?\n",
    "%cat cuadratica-ruido.txt"
   ]
  },
  {
   "cell_type": "code",
   "execution_count": 43,
   "metadata": {
    "collapsed": false
   },
   "outputs": [],
   "source": [
    "np.savetxt(\"cuadratica-ruido.txt\", z, fmt=\"%10.5f\", delimiter=\",\", header=\"X, Y\")"
   ]
  },
  {
   "cell_type": "code",
   "execution_count": 42,
   "metadata": {
    "collapsed": true
   },
   "outputs": [],
   "source": [
    "np.savetxt?"
   ]
  },
  {
   "cell_type": "code",
   "execution_count": 47,
   "metadata": {
    "collapsed": false
   },
   "outputs": [
    {
     "data": {
      "text/plain": [
       "array([[ -5.     ,  26.80811],\n",
       "       [ -4.79592,  25.68855],\n",
       "       [ -4.59184,  21.63242],\n",
       "       [ -4.38776,  22.01194],\n",
       "       [ -4.18367,  20.31406],\n",
       "       [ -3.97959,  17.7454 ],\n",
       "       [ -3.77551,  18.31746],\n",
       "       [ -3.57143,  14.68421],\n",
       "       [ -3.36735,  12.82156],\n",
       "       [ -3.16327,  13.13859],\n",
       "       [ -2.95918,  11.34653],\n",
       "       [ -2.7551 ,   8.71416],\n",
       "       [ -2.55102,   9.17294],\n",
       "       [ -2.34694,  10.48949],\n",
       "       [ -2.14286,   7.635  ],\n",
       "       [ -1.93878,   5.66674],\n",
       "       [ -1.73469,   6.72205],\n",
       "       [ -1.53061,   2.77236],\n",
       "       [ -1.32653,   5.81838],\n",
       "       [ -1.12245,   1.68596],\n",
       "       [ -0.91837,   4.31227],\n",
       "       [ -0.71429,   5.10052],\n",
       "       [ -0.5102 ,   2.47503],\n",
       "       [ -0.30612,   1.81966],\n",
       "       [ -0.10204,   2.53212],\n",
       "       [  0.10204,   3.93226],\n",
       "       [  0.30612,   3.19322],\n",
       "       [  0.5102 ,   2.5953 ],\n",
       "       [  0.71429,   5.39494],\n",
       "       [  0.91837,   1.03501],\n",
       "       [  1.12245,   2.23112],\n",
       "       [  1.32653,   3.06057],\n",
       "       [  1.53061,   7.18481],\n",
       "       [  1.73469,   6.637  ],\n",
       "       [  1.93878,   5.15075],\n",
       "       [  2.14286,   6.21849],\n",
       "       [  2.34694,   9.06963],\n",
       "       [  2.55102,  10.81902],\n",
       "       [  2.7551 ,   8.27235],\n",
       "       [  2.95918,  10.59692],\n",
       "       [  3.16327,  11.14789],\n",
       "       [  3.36735,  11.75431],\n",
       "       [  3.57143,  16.24326],\n",
       "       [  3.77551,  15.49173],\n",
       "       [  3.97959,  16.21432],\n",
       "       [  4.18367,  20.74267],\n",
       "       [  4.38776,  19.37443],\n",
       "       [  4.59184,  26.00958],\n",
       "       [  4.79592,  25.20495],\n",
       "       [  5.     ,  28.09228]])"
      ]
     },
     "execution_count": 47,
     "metadata": {},
     "output_type": "execute_result"
    }
   ],
   "source": [
    "zz = np.loadtxt(\"cuadratica-ruido.txt\", delimiter=\",\")\n",
    "zz"
   ]
  },
  {
   "cell_type": "code",
   "execution_count": 57,
   "metadata": {
    "collapsed": false
   },
   "outputs": [
    {
     "data": {
      "text/plain": [
       "array([ -5.     ,  26.80811])"
      ]
     },
     "execution_count": 57,
     "metadata": {},
     "output_type": "execute_result"
    }
   ],
   "source": [
    "zz[0]"
   ]
  },
  {
   "cell_type": "markdown",
   "metadata": {},
   "source": [
    "**Ejercicio** Como podemos extraer ahora los elementos de cada columna de la matriz que salvamos.\n",
    "\n",
    "-----"
   ]
  },
  {
   "cell_type": "markdown",
   "metadata": {},
   "source": [
    "## Documentando nuestro codigo en el entorno Notebook \"Literate programming\"\n",
    "Podemos agregar informacion complementaria utilizando un lenguaje ligero para hacer anotaciones llamado **markdown**.\n",
    "\n",
    "Markdown nos permite escribir en *italicas*, poner texto en **negritas**, \n",
    "- hacer listas, \n",
    "- definir titulos, \n",
    "- tablas, resaltar algun texto:.\n",
    "\n",
    "> Alguna frase\n",
    "\n",
    "Resulta util para el computo cientifico poder incluir en celdas con Markup formulas escritas con LaTeX, encasillando las ecuaciones entre `$`, y `$$` para parrafos.\n",
    "\n",
    "Por ejemplo $y=x^2$ , Una mas complicada seria:\n",
    "$$\n",
    "\\mathcal{N}(x)=Ce^{-x^2}\n",
    "$$"
   ]
  },
  {
   "cell_type": "markdown",
   "metadata": {},
   "source": [
    "## Resumen\n",
    "Hemos revisado de manera general los componentes fundamentales del paquete SciPy\n",
    "\n",
    "- El IPython Notebook\n",
    "    - Un entorno que facilita los flujos de trabajo de computo\n",
    "    - Soporte para visualizacion interactiva\n",
    "    - Posibilidad de exportar en distintos formatos\n",
    "- numpy\n",
    "    - Manejo de vectores, matrices y arreglos de n-dimensiones\n",
    "    - Provee de funciones vectorizadas optimizadas para arreglos    \n",
    "\n",
    "- matplotlib\n",
    "    - Flexibilidad\n",
    "    - Calidad para publicaciones\n"
   ]
  },
  {
   "cell_type": "code",
   "execution_count": null,
   "metadata": {
    "collapsed": true
   },
   "outputs": [],
   "source": []
  }
 ],
 "metadata": {
  "celltoolbar": "Raw Cell Format",
  "kernelspec": {
   "display_name": "Python [Root]",
   "language": "python",
   "name": "Python [Root]"
  },
  "language_info": {
   "codemirror_mode": {
    "name": "ipython",
    "version": 3
   },
   "file_extension": ".py",
   "mimetype": "text/x-python",
   "name": "python",
   "nbconvert_exporter": "python",
   "pygments_lexer": "ipython3",
   "version": "3.5.2"
  },
  "nbpresent": {
   "slides": {
    "017af810-e7c1-4ab4-a2f1-38fa59c57093": {
     "id": "017af810-e7c1-4ab4-a2f1-38fa59c57093",
     "prev": "cc979dff-2853-4ef1-aabe-9a2128500086",
     "regions": {
      "d14ab94b-0158-45f0-a4fc-12a8ab81ccdd": {
       "attrs": {
        "height": 0.8,
        "width": 0.8,
        "x": 0.1,
        "y": 0.1
       },
       "content": {
        "cell": "925a95fe-d944-4b8f-98a3-5b1a88146e92",
        "part": "whole"
       },
       "id": "d14ab94b-0158-45f0-a4fc-12a8ab81ccdd"
      }
     }
    },
    "08db31b8-96cd-4b8c-9e83-b1848ca3291c": {
     "id": "08db31b8-96cd-4b8c-9e83-b1848ca3291c",
     "prev": "4f36bb32-1eef-4d70-bc9b-6838089c0a02",
     "regions": {
      "802e1941-f657-42d8-8a6a-4cf37fe747c8": {
       "attrs": {
        "height": 0.8,
        "width": 0.8,
        "x": 0.1,
        "y": 0.1
       },
       "content": {
        "cell": "c2c0d875-6f19-4f16-9dc5-25dc487204ed",
        "part": "whole"
       },
       "id": "802e1941-f657-42d8-8a6a-4cf37fe747c8"
      }
     }
    },
    "10945771-cd2b-4ad5-91c4-3b8256fb914a": {
     "id": "10945771-cd2b-4ad5-91c4-3b8256fb914a",
     "prev": null,
     "regions": {
      "0abb7c14-77fc-4dfb-a060-f357156e9030": {
       "attrs": {
        "height": 0.8,
        "width": 0.8,
        "x": 0.1,
        "y": 0.1
       },
       "content": {
        "cell": "570d5f36-8d2f-40e0-a55d-2541976f39f5",
        "part": "whole"
       },
       "id": "0abb7c14-77fc-4dfb-a060-f357156e9030"
      }
     }
    },
    "162302a0-08b6-435f-8f61-feaa9b477c93": {
     "id": "162302a0-08b6-435f-8f61-feaa9b477c93",
     "prev": "ff91a8de-d9be-4c0e-a844-5bc56f28fe06",
     "regions": {
      "74887246-ef94-4375-a5c2-3c619ba00b33": {
       "attrs": {
        "height": 0.8,
        "width": 0.8,
        "x": 0.1,
        "y": 0.1
       },
       "content": {
        "cell": "40aed528-1d6f-472d-9c59-13fa7b3ccbd3",
        "part": "whole"
       },
       "id": "74887246-ef94-4375-a5c2-3c619ba00b33"
      }
     }
    },
    "1a005aa6-b17d-4444-8510-657c82a638a5": {
     "id": "1a005aa6-b17d-4444-8510-657c82a638a5",
     "prev": "10945771-cd2b-4ad5-91c4-3b8256fb914a",
     "regions": {
      "a46cd02f-0470-4cfc-bf20-5e62bb73905b": {
       "attrs": {
        "height": 0.8,
        "width": 0.8,
        "x": 0.1,
        "y": 0.1
       },
       "content": {
        "cell": "8feae209-830c-4f75-be7f-8220417846f2",
        "part": "whole"
       },
       "id": "a46cd02f-0470-4cfc-bf20-5e62bb73905b"
      }
     }
    },
    "1a9575b0-ba56-452a-b4e9-7ae5dacf0b3e": {
     "id": "1a9575b0-ba56-452a-b4e9-7ae5dacf0b3e",
     "prev": "732b2899-029c-4bee-aac6-a1539bab0cf8",
     "regions": {
      "30f6d204-6fc6-4164-98c7-6a6d6534e613": {
       "attrs": {
        "height": 0.8,
        "width": 0.8,
        "x": 0.1,
        "y": 0.1
       },
       "content": {
        "cell": "13c57300-0fcb-4579-a4d3-afc1f2c9ab55",
        "part": "whole"
       },
       "id": "30f6d204-6fc6-4164-98c7-6a6d6534e613"
      }
     }
    },
    "1c72e38d-7e8a-4259-85ee-85e0777c412b": {
     "id": "1c72e38d-7e8a-4259-85ee-85e0777c412b",
     "prev": "b7a4eb2f-5c0a-4492-ab25-a0e6996264be",
     "regions": {
      "a68de963-7b99-4023-8024-f6703d61019a": {
       "attrs": {
        "height": 0.8,
        "width": 0.8,
        "x": 0.1,
        "y": 0.1
       },
       "content": {
        "cell": "1e695bca-d65c-4362-8365-5480cf678b15",
        "part": "whole"
       },
       "id": "a68de963-7b99-4023-8024-f6703d61019a"
      }
     }
    },
    "2471e03c-8cdd-430c-bf73-c28d2b490df8": {
     "id": "2471e03c-8cdd-430c-bf73-c28d2b490df8",
     "prev": "39000ac6-2125-4317-8668-b3a507cc5bef",
     "regions": {
      "0c10659a-1383-4747-80a1-fe0b1d648b04": {
       "attrs": {
        "height": 0.8,
        "width": 0.8,
        "x": 0.1,
        "y": 0.1
       },
       "content": {
        "cell": "2357aaa7-515c-4d8c-b3a9-52a0fa9a5865",
        "part": "whole"
       },
       "id": "0c10659a-1383-4747-80a1-fe0b1d648b04"
      }
     }
    },
    "24d6deef-a686-469c-96e1-964c5589168f": {
     "id": "24d6deef-a686-469c-96e1-964c5589168f",
     "prev": "7170a560-5832-4f31-8b85-90be791ea066",
     "regions": {
      "59072491-946d-4b05-ae7b-bfe7013f943e": {
       "attrs": {
        "height": 0.8,
        "width": 0.8,
        "x": 0.1,
        "y": 0.1
       },
       "content": {
        "cell": "0433d528-4717-49e2-880e-1105c48790db",
        "part": "whole"
       },
       "id": "59072491-946d-4b05-ae7b-bfe7013f943e"
      }
     }
    },
    "2e6d092a-dc4c-4aa0-a11d-cb36654b5608": {
     "id": "2e6d092a-dc4c-4aa0-a11d-cb36654b5608",
     "prev": "d8788ff8-432f-4450-b02b-a61cb5033cc1",
     "regions": {
      "99c320d8-adcc-4d95-8cb1-4298f8c90c14": {
       "attrs": {
        "height": 0.8,
        "width": 0.8,
        "x": 0.1,
        "y": 0.1
       },
       "content": {
        "cell": "c7a47147-2486-41bf-ae03-30e55887beee",
        "part": "whole"
       },
       "id": "99c320d8-adcc-4d95-8cb1-4298f8c90c14"
      }
     }
    },
    "317194c4-dadd-440d-8e85-5d6231af92a7": {
     "id": "317194c4-dadd-440d-8e85-5d6231af92a7",
     "prev": "162302a0-08b6-435f-8f61-feaa9b477c93",
     "regions": {
      "08545776-5d0a-45d6-a0dd-452e529e0b96": {
       "attrs": {
        "height": 0.8,
        "width": 0.8,
        "x": 0.1,
        "y": 0.1
       },
       "content": {
        "cell": "4bf3b57e-b097-42b3-b110-21d024a72a04",
        "part": "whole"
       },
       "id": "08545776-5d0a-45d6-a0dd-452e529e0b96"
      }
     }
    },
    "39000ac6-2125-4317-8668-b3a507cc5bef": {
     "id": "39000ac6-2125-4317-8668-b3a507cc5bef",
     "prev": "de6a7223-4388-4e3c-8392-8d88d04ae1eb",
     "regions": {
      "5288e022-c378-4d77-ad79-e2192abb13de": {
       "attrs": {
        "height": 0.8,
        "width": 0.8,
        "x": 0.1,
        "y": 0.1
       },
       "content": {
        "cell": "8bd52533-fab3-4188-a45a-17d247ca1e8b",
        "part": "whole"
       },
       "id": "5288e022-c378-4d77-ad79-e2192abb13de"
      }
     }
    },
    "4f36bb32-1eef-4d70-bc9b-6838089c0a02": {
     "id": "4f36bb32-1eef-4d70-bc9b-6838089c0a02",
     "prev": "556fc5a9-97ff-45d5-a950-1bdb9d4e7fa2",
     "regions": {
      "d39321be-a443-4d23-b79a-0bb48c316464": {
       "attrs": {
        "height": 0.8,
        "width": 0.8,
        "x": 0.1,
        "y": 0.1
       },
       "content": {
        "cell": "6db97975-0ceb-4aab-8cd9-d1f5e995b5bb",
        "part": "whole"
       },
       "id": "d39321be-a443-4d23-b79a-0bb48c316464"
      }
     }
    },
    "556fc5a9-97ff-45d5-a950-1bdb9d4e7fa2": {
     "id": "556fc5a9-97ff-45d5-a950-1bdb9d4e7fa2",
     "prev": "317194c4-dadd-440d-8e85-5d6231af92a7",
     "regions": {
      "390ce535-8243-4fb8-a8fd-b3805e3470d3": {
       "attrs": {
        "height": 0.8,
        "width": 0.8,
        "x": 0.1,
        "y": 0.1
       },
       "content": {
        "cell": "12bf985a-7f38-4fcc-9691-b698b61cdba6",
        "part": "whole"
       },
       "id": "390ce535-8243-4fb8-a8fd-b3805e3470d3"
      }
     }
    },
    "5bc09ae3-8133-42e6-ac75-6083145d9a2e": {
     "id": "5bc09ae3-8133-42e6-ac75-6083145d9a2e",
     "prev": "b059567b-a693-4153-aa8c-2e6696f91073",
     "regions": {
      "a47b488b-acc2-48a1-ac1a-c8719003d725": {
       "attrs": {
        "height": 0.8,
        "width": 0.8,
        "x": 0.1,
        "y": 0.1
       },
       "content": {
        "cell": "2b3dd24f-f690-4d60-9277-40fbfc57821b",
        "part": "whole"
       },
       "id": "a47b488b-acc2-48a1-ac1a-c8719003d725"
      }
     }
    },
    "7170a560-5832-4f31-8b85-90be791ea066": {
     "id": "7170a560-5832-4f31-8b85-90be791ea066",
     "prev": "dc2c7f05-42b6-414e-a977-51175544e5ea",
     "regions": {
      "1992c130-0390-4a21-a108-89c8c98dc90e": {
       "attrs": {
        "height": 0.8,
        "width": 0.8,
        "x": 0.1,
        "y": 0.1
       },
       "content": {
        "cell": "b0b5f8a1-4158-4276-9c40-fb82e4def479",
        "part": "whole"
       },
       "id": "1992c130-0390-4a21-a108-89c8c98dc90e"
      }
     }
    },
    "71fc7eb1-32ef-4dd3-8b26-c0d0016afcfb": {
     "id": "71fc7eb1-32ef-4dd3-8b26-c0d0016afcfb",
     "prev": "a2486b70-e356-48c2-98dc-185ad9455783",
     "regions": {
      "48958b22-e4ee-45fd-9071-3fe84132fed8": {
       "attrs": {
        "height": 0.8,
        "width": 0.8,
        "x": 0.1,
        "y": 0.1
       },
       "content": {
        "cell": "e75f55d2-a3d7-42d0-8ae5-210894d13a79",
        "part": "whole"
       },
       "id": "48958b22-e4ee-45fd-9071-3fe84132fed8"
      }
     }
    },
    "732b2899-029c-4bee-aac6-a1539bab0cf8": {
     "id": "732b2899-029c-4bee-aac6-a1539bab0cf8",
     "prev": "a9e5ea70-29d0-4763-8773-5a417603487c",
     "regions": {
      "76a02844-c2c8-46e3-8f2d-7fab5a3adf78": {
       "attrs": {
        "height": 0.8,
        "width": 0.8,
        "x": 0.1,
        "y": 0.1
       },
       "content": {
        "cell": "6f8ba47c-eca0-48a5-9512-99040c6d5cd2",
        "part": "whole"
       },
       "id": "76a02844-c2c8-46e3-8f2d-7fab5a3adf78"
      }
     }
    },
    "7f4a7f80-3f56-4d11-b0c5-a12f99d8414b": {
     "id": "7f4a7f80-3f56-4d11-b0c5-a12f99d8414b",
     "prev": "e4aaaa54-e4db-4f5d-b0fa-72fe2e4d4b1f",
     "regions": {
      "a31e50fd-dd03-4e7f-9f24-65d6dbbfe538": {
       "attrs": {
        "height": 0.8,
        "width": 0.8,
        "x": 0.1,
        "y": 0.1
       },
       "content": {
        "cell": "b0b17a35-23b6-4e3c-86d5-f032010f4b69",
        "part": "whole"
       },
       "id": "a31e50fd-dd03-4e7f-9f24-65d6dbbfe538"
      }
     }
    },
    "8f65ed88-9281-4d99-9de7-7425e4ea3db4": {
     "id": "8f65ed88-9281-4d99-9de7-7425e4ea3db4",
     "prev": "2471e03c-8cdd-430c-bf73-c28d2b490df8",
     "regions": {
      "bfbfd368-4220-4fca-98ad-543a4dae3f64": {
       "attrs": {
        "height": 0.8,
        "width": 0.8,
        "x": 0.1,
        "y": 0.1
       },
       "content": {
        "cell": "6512381c-5bf3-4df5-949e-33dc2ae940d0",
        "part": "whole"
       },
       "id": "bfbfd368-4220-4fca-98ad-543a4dae3f64"
      }
     }
    },
    "a2486b70-e356-48c2-98dc-185ad9455783": {
     "id": "a2486b70-e356-48c2-98dc-185ad9455783",
     "prev": "7f4a7f80-3f56-4d11-b0c5-a12f99d8414b",
     "regions": {
      "89e5b261-8ab5-452a-b0d7-75b9eb476919": {
       "attrs": {
        "height": 0.8,
        "width": 0.8,
        "x": 0.1,
        "y": 0.1
       },
       "content": {
        "cell": "a0097925-839e-4d09-ab1c-e8a5e38be214",
        "part": "whole"
       },
       "id": "89e5b261-8ab5-452a-b0d7-75b9eb476919"
      }
     }
    },
    "a9e5ea70-29d0-4763-8773-5a417603487c": {
     "id": "a9e5ea70-29d0-4763-8773-5a417603487c",
     "prev": "5bc09ae3-8133-42e6-ac75-6083145d9a2e",
     "regions": {
      "3c9302ce-8e6a-4676-b4eb-ab09eb496226": {
       "attrs": {
        "height": 0.8,
        "width": 0.8,
        "x": 0.1,
        "y": 0.1
       },
       "content": {
        "cell": "2ac5d98b-9338-4347-9cd5-8d775b2765d2",
        "part": "whole"
       },
       "id": "3c9302ce-8e6a-4676-b4eb-ab09eb496226"
      }
     }
    },
    "ac27b8d5-7437-4e92-9076-c60f6e4238bf": {
     "id": "ac27b8d5-7437-4e92-9076-c60f6e4238bf",
     "prev": "1a9575b0-ba56-452a-b4e9-7ae5dacf0b3e",
     "regions": {
      "aed5e413-d0d4-4b1f-a13b-399118b23cb1": {
       "attrs": {
        "height": 0.8,
        "width": 0.8,
        "x": 0.1,
        "y": 0.1
       },
       "content": {
        "cell": "096e86e8-5df7-4bd3-a388-44b18a527f7c",
        "part": "whole"
       },
       "id": "aed5e413-d0d4-4b1f-a13b-399118b23cb1"
      }
     }
    },
    "b059567b-a693-4153-aa8c-2e6696f91073": {
     "id": "b059567b-a693-4153-aa8c-2e6696f91073",
     "prev": "c6eb3da0-cce8-441f-a2ee-a5f85260c459",
     "regions": {
      "72820722-847e-417d-ad15-6fec85df634a": {
       "attrs": {
        "height": 0.8,
        "width": 0.8,
        "x": 0.1,
        "y": 0.1
       },
       "content": {
        "cell": "480b73f3-1f5e-44cf-b185-6c94cd33d26c",
        "part": "whole"
       },
       "id": "72820722-847e-417d-ad15-6fec85df634a"
      }
     }
    },
    "b7a4eb2f-5c0a-4492-ab25-a0e6996264be": {
     "id": "b7a4eb2f-5c0a-4492-ab25-a0e6996264be",
     "prev": "017af810-e7c1-4ab4-a2f1-38fa59c57093",
     "regions": {
      "9e576c16-5425-4294-b825-404c172cdfd3": {
       "attrs": {
        "height": 0.8,
        "width": 0.8,
        "x": 0.1,
        "y": 0.1
       },
       "content": {
        "cell": "c8b26eab-e26b-44ea-9c76-8cbe12f7ec0d",
        "part": "whole"
       },
       "id": "9e576c16-5425-4294-b825-404c172cdfd3"
      }
     }
    },
    "c00624e9-fe71-483e-8055-8cc91fc292ca": {
     "id": "c00624e9-fe71-483e-8055-8cc91fc292ca",
     "prev": "2e6d092a-dc4c-4aa0-a11d-cb36654b5608",
     "regions": {
      "4054d932-b8da-4fcf-8ed0-872583f3e948": {
       "attrs": {
        "height": 0.8,
        "width": 0.8,
        "x": 0.1,
        "y": 0.1
       },
       "content": {
        "cell": "d145117e-b105-47ee-8ed5-9944fecd373c",
        "part": "whole"
       },
       "id": "4054d932-b8da-4fcf-8ed0-872583f3e948"
      }
     }
    },
    "c6eb3da0-cce8-441f-a2ee-a5f85260c459": {
     "id": "c6eb3da0-cce8-441f-a2ee-a5f85260c459",
     "prev": "d99d0a2a-7567-4439-9a2d-f844fa3e7ba0",
     "regions": {
      "c6c6626c-f2e4-4240-94b7-1fe966be3013": {
       "attrs": {
        "height": 0.8,
        "width": 0.8,
        "x": 0.1,
        "y": 0.1
       },
       "content": {
        "cell": "b4cd7cc2-42f6-4434-9497-351df91385d1",
        "part": "whole"
       },
       "id": "c6c6626c-f2e4-4240-94b7-1fe966be3013"
      }
     }
    },
    "c730242a-28ca-4a5a-927d-c959d7c7a04f": {
     "id": "c730242a-28ca-4a5a-927d-c959d7c7a04f",
     "prev": "c00624e9-fe71-483e-8055-8cc91fc292ca",
     "regions": {
      "ebf23e4a-81d8-4e49-840e-1999f7a52fba": {
       "attrs": {
        "height": 0.8,
        "width": 0.8,
        "x": 0.1,
        "y": 0.1
       },
       "content": {
        "cell": "7ad0977b-8708-4ad5-8aeb-549af1fbabaa",
        "part": "whole"
       },
       "id": "ebf23e4a-81d8-4e49-840e-1999f7a52fba"
      }
     }
    },
    "cc979dff-2853-4ef1-aabe-9a2128500086": {
     "id": "cc979dff-2853-4ef1-aabe-9a2128500086",
     "prev": "1a005aa6-b17d-4444-8510-657c82a638a5",
     "regions": {
      "cf6daea1-e2f7-439d-ab2b-45339d74fffb": {
       "attrs": {
        "height": 0.8,
        "width": 0.8,
        "x": 0.1,
        "y": 0.1
       },
       "content": {
        "cell": "4b942b3f-f83c-47b1-a3f1-6be7231ef4fe",
        "part": "whole"
       },
       "id": "cf6daea1-e2f7-439d-ab2b-45339d74fffb"
      }
     }
    },
    "d8788ff8-432f-4450-b02b-a61cb5033cc1": {
     "id": "d8788ff8-432f-4450-b02b-a61cb5033cc1",
     "prev": "71fc7eb1-32ef-4dd3-8b26-c0d0016afcfb",
     "regions": {
      "2ecf87e6-96b8-4170-a9bc-817ebb0f9695": {
       "attrs": {
        "height": 0.8,
        "width": 0.8,
        "x": 0.1,
        "y": 0.1
       },
       "content": {
        "cell": "5e670026-a8b3-4151-8165-5921dfa80f39",
        "part": "whole"
       },
       "id": "2ecf87e6-96b8-4170-a9bc-817ebb0f9695"
      }
     }
    },
    "d99d0a2a-7567-4439-9a2d-f844fa3e7ba0": {
     "id": "d99d0a2a-7567-4439-9a2d-f844fa3e7ba0",
     "prev": "8f65ed88-9281-4d99-9de7-7425e4ea3db4",
     "regions": {
      "70c0419d-10ef-4438-b98b-8c0cbaa59b8a": {
       "attrs": {
        "height": 0.8,
        "width": 0.8,
        "x": 0.1,
        "y": 0.1
       },
       "content": {
        "cell": "d5befe13-b5f9-491f-b2f5-0583b406f28c",
        "part": "whole"
       },
       "id": "70c0419d-10ef-4438-b98b-8c0cbaa59b8a"
      }
     }
    },
    "dc2c7f05-42b6-414e-a977-51175544e5ea": {
     "id": "dc2c7f05-42b6-414e-a977-51175544e5ea",
     "prev": "1c72e38d-7e8a-4259-85ee-85e0777c412b",
     "regions": {
      "4ce71acc-5fca-4145-9308-d703153b3d7f": {
       "attrs": {
        "height": 0.8,
        "width": 0.8,
        "x": 0.1,
        "y": 0.1
       },
       "content": {
        "cell": "f3b436da-3a6b-4ea2-b99d-3d13617f4f07",
        "part": "whole"
       },
       "id": "4ce71acc-5fca-4145-9308-d703153b3d7f"
      }
     }
    },
    "de6a7223-4388-4e3c-8392-8d88d04ae1eb": {
     "id": "de6a7223-4388-4e3c-8392-8d88d04ae1eb",
     "prev": "08db31b8-96cd-4b8c-9e83-b1848ca3291c",
     "regions": {
      "09a9b64e-95fc-4edd-b3a7-eb2e2b79db58": {
       "attrs": {
        "height": 0.8,
        "width": 0.8,
        "x": 0.1,
        "y": 0.1
       },
       "content": {
        "cell": "392f5814-5800-4864-8ab3-193b13946261",
        "part": "whole"
       },
       "id": "09a9b64e-95fc-4edd-b3a7-eb2e2b79db58"
      }
     }
    },
    "e4aaaa54-e4db-4f5d-b0fa-72fe2e4d4b1f": {
     "id": "e4aaaa54-e4db-4f5d-b0fa-72fe2e4d4b1f",
     "prev": "eea40c18-bbcf-41df-bbf4-568b3ca2b8df",
     "regions": {
      "15b675c3-d47a-4bde-8a6f-34a2f9a600a7": {
       "attrs": {
        "height": 0.8,
        "width": 0.8,
        "x": 0.1,
        "y": 0.1
       },
       "content": {
        "cell": "4baf9b21-d327-476c-98dc-ddab80a0ae8a",
        "part": "whole"
       },
       "id": "15b675c3-d47a-4bde-8a6f-34a2f9a600a7"
      }
     }
    },
    "eea40c18-bbcf-41df-bbf4-568b3ca2b8df": {
     "id": "eea40c18-bbcf-41df-bbf4-568b3ca2b8df",
     "prev": "ac27b8d5-7437-4e92-9076-c60f6e4238bf",
     "regions": {
      "7a08cb73-be59-4087-8de2-77e18fd58fb2": {
       "attrs": {
        "height": 0.8,
        "width": 0.8,
        "x": 0.1,
        "y": 0.1
       },
       "content": {
        "cell": "fd51bf62-60e2-4a6e-bacd-9bc5a0f879dd",
        "part": "whole"
       },
       "id": "7a08cb73-be59-4087-8de2-77e18fd58fb2"
      }
     }
    },
    "ff91a8de-d9be-4c0e-a844-5bc56f28fe06": {
     "id": "ff91a8de-d9be-4c0e-a844-5bc56f28fe06",
     "prev": "24d6deef-a686-469c-96e1-964c5589168f",
     "regions": {
      "5252c128-d75d-4b96-a3c3-528642406b66": {
       "attrs": {
        "height": 0.8,
        "width": 0.8,
        "x": 0.1,
        "y": 0.1
       },
       "content": {
        "cell": "3addacc0-c734-44dd-b21d-45a76bb4dc22",
        "part": "whole"
       },
       "id": "5252c128-d75d-4b96-a3c3-528642406b66"
      }
     }
    }
   },
   "themes": {}
  }
 },
 "nbformat": 4,
 "nbformat_minor": 0
}
